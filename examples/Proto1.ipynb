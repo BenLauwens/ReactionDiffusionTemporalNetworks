{
 "cells": [
  {
   "cell_type": "markdown",
   "metadata": {},
   "source": [
    "# Prototype of reaction-diffusion on temporal networks"
   ]
  },
  {
   "cell_type": "markdown",
   "metadata": {},
   "source": [
    "Install the packages"
   ]
  },
  {
   "cell_type": "code",
   "execution_count": 1,
   "metadata": {
    "collapsed": false
   },
   "outputs": [
    {
     "name": "stderr",
     "output_type": "stream",
     "text": [
      "\u001b[1m\u001b[36mINFO: \u001b[39m\u001b[22m\u001b[36mUpdating METADATA...\n",
      "\u001b[39m\u001b[1m\u001b[36mINFO: \u001b[39m\u001b[22m\u001b[36mUpdating SimJulia master... c8d9567b → e39b73b8\n",
      "\u001b[39m\u001b[1m\u001b[36mINFO: \u001b[39m\u001b[22m\u001b[36mComputing changes...\n",
      "\u001b[39m\u001b[1m\u001b[36mINFO: \u001b[39m\u001b[22m\u001b[36mUpgrading StatsBase: v0.18.0 => v0.19.0\n",
      "\u001b[39m\u001b[1m\u001b[36mINFO: \u001b[39m\u001b[22m\u001b[36mBuilding SpecialFunctions\n",
      "\u001b[39m\u001b[1m\u001b[36mINFO: \u001b[39m\u001b[22m\u001b[36mPackage Distributions is already installed\n",
      "\u001b[39m\u001b[1m\u001b[36mINFO: \u001b[39m\u001b[22m\u001b[36mPackage LightGraphs is already installed\n",
      "\u001b[39m\u001b[1m\u001b[36mINFO: \u001b[39m\u001b[22m\u001b[36mPackage SimJulia is already installed\n",
      "\u001b[39m"
     ]
    }
   ],
   "source": [
    "Pkg.update()\n",
    "Pkg.add(\"Distributions\")\n",
    "Pkg.add(\"LightGraphs\")\n",
    "Pkg.add(\"SimJulia\")"
   ]
  },
  {
   "cell_type": "markdown",
   "metadata": {},
   "source": [
    "Making packages available in notebook"
   ]
  },
  {
   "cell_type": "code",
   "execution_count": 1,
   "metadata": {
    "collapsed": false
   },
   "outputs": [
    {
     "name": "stderr",
     "output_type": "stream",
     "text": [
      "\u001b[1m\u001b[36mINFO: \u001b[39m\u001b[22m\u001b[36mRecompiling stale cache file /home/juser/.julia/lib/v0.6/SimJulia.ji for module SimJulia.\n",
      "\u001b[39m"
     ]
    }
   ],
   "source": [
    "using Distributions\n",
    "using LightGraphs\n",
    "using ResumableFunctions\n",
    "using SimJulia"
   ]
  },
  {
   "cell_type": "markdown",
   "metadata": {},
   "source": [
    "Define a type to hold the state of the simulation"
   ]
  },
  {
   "cell_type": "code",
   "execution_count": 2,
   "metadata": {
    "collapsed": false
   },
   "outputs": [],
   "source": [
    "struct Node\n",
    "    arrival_times :: Vector{Float64}\n",
    "    departure_times :: Vector{Float64}\n",
    "    Node() = new(Float64[], Float64[])\n",
    "end\n",
    "\n",
    "mutable struct SimulationState\n",
    "    network :: DiGraph\n",
    "    link_up :: Event\n",
    "    nodes :: Vector{Node}\n",
    "end"
   ]
  },
  {
   "cell_type": "markdown",
   "metadata": {},
   "source": [
    "Define the temporal behaviour of the network"
   ]
  },
  {
   "cell_type": "code",
   "execution_count": 3,
   "metadata": {
    "collapsed": false
   },
   "outputs": [
    {
     "data": {
      "text/plain": [
       "edge_behaviour (generic function with 1 method)"
      ]
     },
     "execution_count": 3,
     "metadata": {},
     "output_type": "execute_result"
    }
   ],
   "source": [
    "@resumable function edge_behaviour(sim::Simulation, next_state::Bool, src::Int, dst::Int, sim_state::SimulationState)\n",
    "    up_distribution = Exponential(1.0) # other distributions are available\n",
    "    down_distribution = Exponential(1.0) # other distributions are available\n",
    "    while true\n",
    "        if next_state\n",
    "            println(now(sim), \": Edge from \", src, \" to \", dst, \" up\")\n",
    "            add_edge!(sim_state.network, src, dst)\n",
    "            next_state = false\n",
    "            succeed(sim_state.link_up, value=src)\n",
    "            sim_state.link_up = Event(sim)\n",
    "            @yield Timeout(sim, rand(up_distribution))\n",
    "        else\n",
    "            println(now(sim), \": Edge from \", src, \" to \", dst, \" down\")\n",
    "            rem_edge!(sim_state.network, src, dst)\n",
    "            next_state = true\n",
    "            @yield Timeout(sim, rand(down_distribution))\n",
    "        end\n",
    "    end\n",
    "end"
   ]
  },
  {
   "cell_type": "markdown",
   "metadata": {},
   "source": [
    "Define the walker behaviour"
   ]
  },
  {
   "cell_type": "code",
   "execution_count": 4,
   "metadata": {
    "collapsed": false
   },
   "outputs": [
    {
     "data": {
      "text/plain": [
       "walker_behaviour (generic function with 1 method)"
      ]
     },
     "execution_count": 4,
     "metadata": {},
     "output_type": "execute_result"
    }
   ],
   "source": [
    "@resumable function walker_behaviour(sim::Simulation, walker::Int, vertex::Int, sim_state::SimulationState)\n",
    "    wait_distribution = Exponential(1.0) # other distributions are available\n",
    "    while true\n",
    "        println(now(sim), \": Walker \", walker, \" arrived in vertex \", vertex)\n",
    "        push!(sim_state.nodes[vertex].arrival_times, now(sim))\n",
    "        @yield Timeout(sim, rand(wait_distribution))\n",
    "        connections = out_neighbors(sim_state.network, vertex)\n",
    "        println(now(sim), \": Walker \", walker, \" in vertex \", vertex, \" has connections to \", connections)\n",
    "        #isempty(connections) && continue # no connections available, so we wait another period\n",
    "        if isempty(connections)\n",
    "            src = 0\n",
    "            while src != vertex\n",
    "                println(now(sim), \": Walker \", walker, \" in vertex \", vertex, \" is waiting for connections\")\n",
    "                src = @yield sim_state.link_up\n",
    "            end\n",
    "        end\n",
    "        push!(sim_state.nodes[vertex].departure_times, now(sim))\n",
    "        connection_distribution = DiscreteUniform(1, length(connections))\n",
    "        vertex = connections[Int(rand(connection_distribution))]\n",
    "    end\n",
    "end"
   ]
  },
  {
   "cell_type": "markdown",
   "metadata": {},
   "source": [
    "Define the initial simulation settings"
   ]
  },
  {
   "cell_type": "code",
   "execution_count": 5,
   "metadata": {
    "collapsed": false
   },
   "outputs": [
    {
     "data": {
      "text/plain": [
       "play (generic function with 1 method)"
      ]
     },
     "execution_count": 5,
     "metadata": {},
     "output_type": "execute_result"
    }
   ],
   "source": [
    "function play(run_time::Float64, nr_vertices::Int, edge_probability::Float64, nr_walkers::Int)\n",
    "    sim = Simulation()\n",
    "    network = erdos_renyi(nr_vertices, edge_probability, is_directed=true) # modify parameter to change edge probability\n",
    "    sim_state = SimulationState(DiGraph(nr_vertices, ne(network)), Event(sim), Node[]) \n",
    "    edge_distribution = Bernoulli(0.5) # modify parameter to change the density of initial up edges\n",
    "    walker_distribution = DiscreteUniform(1, nr_vertices)\n",
    "    for vertex in 1:nr_vertices\n",
    "       push!(sim_state.nodes, Node()) \n",
    "    end\n",
    "    for edge in edges(network) \n",
    "        state = Bool(rand(edge_distribution))\n",
    "        @coroutine edge_behaviour(sim, state, src(edge), dst(edge), sim_state)\n",
    "    end\n",
    "    for walker in 1:nr_walkers\n",
    "        vertex = Int(rand(walker_distribution))\n",
    "        @coroutine walker_behaviour(sim, walker, vertex, sim_state)\n",
    "    end\n",
    "    run(sim, run_time)\n",
    "    for vertex in 1:nr_vertices\n",
    "       println(sim_state.nodes[vertex].arrival_times) \n",
    "    end\n",
    "end"
   ]
  },
  {
   "cell_type": "code",
   "execution_count": 6,
   "metadata": {
    "collapsed": false
   },
   "outputs": [
    {
     "name": "stdout",
     "output_type": "stream",
     "text": [
      "0.0: Edge from 1 to 5 down\n",
      "0.0: Edge from 2 to 1 up\n",
      "0.0: Edge from 2 to 7 down\n",
      "0.0: Edge from 2 to 10 up\n",
      "0.0: Edge from 3 to 1 up\n",
      "0.0: Edge from 3 to 2 down\n",
      "0.0: Edge from 3 to 6 up\n",
      "0.0: Edge from 3 to 10 down\n",
      "0.0: Edge from 5 to 6 up\n",
      "0.0: Edge from 5 to 10 down\n",
      "0.0: Edge from 6 to 2 up\n",
      "0.0: Edge from 6 to 5 up\n",
      "0.0: Edge from 6 to 7 up\n",
      "0.0: Edge from 7 to 4 up\n",
      "0.0: Edge from 7 to 5 down\n",
      "0.0: Edge from 7 to 9 up\n",
      "0.0: Edge from 8 to 2 up\n",
      "0.0: Edge from 8 to 3 up\n",
      "0.0: Edge from 8 to 6 up\n",
      "0.0: Edge from 8 to 9 up\n",
      "0.0: Edge from 8 to 10 up\n",
      "0.0: Edge from 9 to 4 up\n",
      "0.0: Edge from 10 to 2 down\n",
      "0.0: Edge from 10 to 4 down\n",
      "0.0: Walker 1 arrived in vertex 5\n",
      "0.0: Walker 2 arrived in vertex 9\n",
      "0.0: Walker 3 arrived in vertex 10\n",
      "0.0: Walker 4 arrived in vertex 1\n",
      "0.0: Walker 5 arrived in vertex 8\n",
      "0.0: Walker 6 arrived in vertex 5\n",
      "0.0: Walker 7 arrived in vertex 3\n",
      "0.0: Walker 8 arrived in vertex 7\n",
      "0.0: Walker 9 arrived in vertex 4\n",
      "0.0: Walker 10 arrived in vertex 4\n",
      "0.004153794622583959: Edge from 2 to 1 down\n",
      "0.06597718605633286: Walker 8 in vertex 7 has connections to [3, 4, 9]\n",
      "0.06597718605633286: Walker 8 arrived in vertex 3\n",
      "0.21823850780380827: Edge from 10 to 4 up\n",
      "0.24858842510981918: Edge from 7 to 5 up\n",
      "0.25869786022216834: Edge from 7 to 4 down\n",
      "0.294986260957444: Edge from 2 to 7 up\n",
      "0.3401799163185203: Walker 3 in vertex 10 has connections to [4, 7, 9]\n",
      "0.3401799163185203: Walker 3 arrived in vertex 7\n",
      "0.37156043865615196: Edge from 7 to 5 down\n",
      "0.3730218985941897: Edge from 8 to 2 down\n",
      "0.3979779925564454: Edge from 8 to 6 down\n",
      "0.39826495083756835: Edge from 2 to 10 down\n",
      "0.39961326424057103: Edge from 8 to 10 down\n",
      "0.4382295184900126: Edge from 7 to 4 up\n",
      "0.46098094710295506: Edge from 8 to 2 up\n",
      "0.4723127472809338: Edge from 2 to 10 up\n",
      "0.49069474104433075: Walker 7 in vertex 3 has connections to [1, 6, 8]\n",
      "0.49069474104433075: Walker 7 arrived in vertex 6\n",
      "0.5097569817996407: Edge from 8 to 9 down\n",
      "0.5348228094814046: Walker 10 in vertex 4 has connections to [5]\n",
      "0.5348228094814046: Walker 10 arrived in vertex 5\n",
      "0.5477645355351027: Walker 2 in vertex 9 has connections to [4, 8]\n",
      "0.5477645355351027: Walker 2 arrived in vertex 4\n",
      "0.5609546903171762: Walker 4 in vertex 1 has connections to [3, 9, 10]\n",
      "0.5609546903171762: Walker 4 arrived in vertex 10\n",
      "0.5684482935800967: Walker 6 in vertex 5 has connections to [1, 3, 6, 9]\n",
      "0.5684482935800967: Walker 6 arrived in vertex 9\n",
      "0.5695103423062479: Edge from 8 to 6 up\n",
      "0.5729662415728015: Edge from 6 to 2 down\n",
      "0.5774697989208514: Walker 6 in vertex 9 has connections to [4, 8]\n",
      "0.5774697989208514: Walker 6 arrived in vertex 8\n",
      "0.6049377474876212: Edge from 8 to 2 down\n",
      "0.6347304703072717: Walker 6 in vertex 8 has connections to [3, 6]\n",
      "0.6347304703072717: Walker 6 arrived in vertex 6\n",
      "0.6797600080749419: Walker 6 in vertex 6 has connections to [3, 5, 7, 9]\n",
      "0.6797600080749419: Walker 6 arrived in vertex 7\n",
      "0.6957619237160512: Walker 9 in vertex 4 has connections to [5]\n",
      "0.6957619237160512: Walker 9 arrived in vertex 5\n",
      "0.7020931120750706: Edge from 7 to 5 up\n",
      "0.7183009342785899: Walker 2 in vertex 4 has connections to [5]\n",
      "0.7183009342785899: Walker 2 arrived in vertex 5\n",
      "0.7331256906347914: Edge from 5 to 10 up\n",
      "0.7750347840448536: Edge from 10 to 4 down\n",
      "0.7792393612400932: Edge from 3 to 2 up\n",
      "0.7876559448762912: Edge from 1 to 5 up\n",
      "0.7988039953068922: Edge from 6 to 2 up\n",
      "0.806859873388507: Edge from 3 to 10 up\n",
      "0.8099651028049051: Edge from 1 to 5 down\n",
      "0.8298107168510216: Edge from 3 to 10 down\n",
      "0.884319585338665: Edge from 8 to 6 down\n",
      "0.8884514797271786: Edge from 6 to 2 down\n",
      "0.9478027156754689: Edge from 8 to 2 up\n",
      "0.9630838699598532: Edge from 7 to 9 down\n",
      "1.0075930077726296: Edge from 10 to 4 up\n",
      "1.032805022857105: Walker 1 in vertex 5 has connections to [1, 3, 6, 9, 10]\n",
      "1.032805022857105: Walker 1 arrived in vertex 3\n",
      "1.0715474913361054: Walker 8 in vertex 3 has connections to [1, 2, 6, 8]\n",
      "1.0715474913361054: Walker 8 arrived in vertex 6\n",
      "1.1165737969300495: Edge from 3 to 10 up\n",
      "1.1602497288451972: Walker 9 in vertex 5 has connections to [1, 3, 6, 9, 10]\n",
      "1.1602497288451972: Walker 9 arrived in vertex 6\n",
      "1.1945571695446118: Walker 10 in vertex 5 has connections to [1, 3, 6, 9, 10]\n",
      "1.1945571695446118: Walker 10 arrived in vertex 3\n",
      "1.248842199068384: Edge from 7 to 9 up\n",
      "1.2535629845316663: Edge from 3 to 1 down\n",
      "1.2809436544957282: Walker 4 in vertex 10 has connections to [4, 7, 9]\n",
      "1.2809436544957282: Walker 4 arrived in vertex 9\n",
      "1.34677735692467: Edge from 7 to 9 down\n",
      "1.3660548034132471: Walker 2 in vertex 5 has connections to [1, 3, 6, 9, 10]\n",
      "1.3660548034132471: Walker 2 arrived in vertex 3\n",
      "1.411423533310454: Edge from 6 to 5 down\n",
      "1.430318145426091: Edge from 2 to 7 down\n",
      "1.4728660285962119: Edge from 8 to 9 up\n",
      "1.5251323806820134: Edge from 10 to 2 up\n",
      "1.5301452056725313: Edge from 5 to 10 down\n",
      "1.5425246334963925: Walker 1 in vertex 3 has connections to [2, 6, 8, 10]\n",
      "1.5425246334963925: Walker 1 arrived in vertex 8\n",
      "1.562886599297538: Edge from 2 to 7 up\n",
      "1.6134489343543499: Edge from 8 to 6 up\n",
      "1.6287814383326973: Edge from 7 to 9 up\n",
      "1.6751520001962077: Edge from 8 to 2 down\n",
      "1.7025848669004093: Edge from 8 to 10 up\n",
      "1.727981270985359: Walker 7 in vertex 6 has connections to [3, 7, 9]\n",
      "1.727981270985359: Walker 7 arrived in vertex 9\n",
      "1.7616746931410525: Edge from 7 to 4 down\n",
      "1.7657822831070922: Edge from 3 to 2 down\n",
      "1.7864833330754804: Edge from 2 to 7 down\n",
      "1.7994773781262223: Walker 4 in vertex 9 has connections to [4, 8]\n",
      "1.7994773781262223: Walker 4 arrived in vertex 4\n",
      "1.847051382238321: Walker 10 in vertex 3 has connections to [6, 8, 10]\n",
      "1.847051382238321: Walker 10 arrived in vertex 6\n",
      "1.8545898081492753: Edge from 7 to 9 down\n",
      "1.8940477084837302: Edge from 1 to 5 up\n",
      "1.914510646202484: Edge from 3 to 6 down\n",
      "1.9676911283272003: Edge from 2 to 7 up\n",
      "1.9681738867983267: Walker 10 in vertex 6 has connections to [3, 7, 9]\n",
      "1.9681738867983267: Walker 10 arrived in vertex 7\n",
      "2.0071345918323122: Walker 4 in vertex 4 has connections to [5]\n",
      "2.0071345918323122: Walker 4 arrived in vertex 5\n",
      "2.014262613651482: Walker 2 in vertex 3 has connections to [8, 10]\n",
      "2.014262613651482: Walker 2 arrived in vertex 8\n",
      "2.025064287877167: Edge from 5 to 6 down\n",
      "2.0262265545500937: Walker 1 in vertex 8 has connections to [3, 6, 9, 10]\n",
      "2.0262265545500937: Walker 1 arrived in vertex 3\n",
      "2.1027693870915622: Edge from 6 to 2 up\n",
      "2.1280652291606694: Edge from 8 to 3 down\n",
      "2.1526486218764425: Edge from 8 to 9 down\n",
      "2.2265562684094102: Edge from 6 to 7 down\n",
      "2.2313335658495523: Edge from 7 to 4 up\n",
      "2.232415174327491: Edge from 7 to 4 down\n",
      "2.26329656800092: Edge from 5 to 6 up\n",
      "2.2762228388095256: Edge from 8 to 10 down\n",
      "2.2971464588894173: Edge from 3 to 10 down\n",
      "2.3617723798767694: Edge from 3 to 10 up\n",
      "2.392165745517007: Walker 6 in vertex 7 has connections to [3, 5]\n",
      "2.392165745517007: Walker 6 arrived in vertex 3\n",
      "2.404689095643778: Walker 10 in vertex 7 has connections to [3, 5]\n",
      "2.404689095643778: Walker 10 arrived in vertex 3\n",
      "2.409108446328162: Edge from 2 to 10 down\n",
      "2.4270501851484916: Edge from 9 to 4 down\n",
      "2.463782868836: Walker 10 in vertex 3 has connections to [8, 10]\n",
      "2.463782868836: Walker 10 arrived in vertex 10\n",
      "2.4685355345774247: Edge from 10 to 2 down\n",
      "2.581927065440005: Walker 9 in vertex 6 has connections to [2, 3, 9]\n",
      "2.581927065440005: Walker 9 arrived in vertex 2\n",
      "2.5842733937422713: Walker 9 in vertex 2 has connections to [6, 7, 8]\n",
      "2.5842733937422713: Walker 9 arrived in vertex 8\n",
      "2.5959854640340105: Walker 8 in vertex 6 has connections to [2, 3, 9]\n",
      "2.5959854640340105: Walker 8 arrived in vertex 9\n",
      "2.6281883036977667: Edge from 8 to 9 up\n",
      "2.676714485683221: Walker 7 in vertex 9 has connections to [8]\n",
      "2.676714485683221: Walker 7 arrived in vertex 8\n",
      "2.684292628286724: Edge from 7 to 5 down\n",
      "2.7111725826046627: Walker 3 in vertex 7 has connections to [3]\n",
      "2.7111725826046627: Walker 3 arrived in vertex 3\n",
      "2.7363101731784827: Walker 1 in vertex 3 has connections to [8, 10]\n",
      "2.7363101731784827: Walker 1 arrived in vertex 8\n",
      "2.755907719841016: Edge from 2 to 10 up\n",
      "2.7735591998617046: Edge from 3 to 10 down\n",
      "2.819551643205159: Edge from 7 to 9 up\n",
      "2.825892534772737: Edge from 5 to 6 down\n",
      "2.827332671069653: Edge from 6 to 2 down\n",
      "2.882213105010081: Edge from 5 to 10 up\n",
      "2.946556540473509: Walker 10 in vertex 10 has connections to [4, 7, 9]\n",
      "2.946556540473509: Walker 10 arrived in vertex 9\n",
      "3.017732164752161: Edge from 2 to 10 down\n",
      "3.05644515349136: Edge from 8 to 3 up\n",
      "3.0695265959859155: Edge from 6 to 7 up\n",
      "3.0777589631857163: Edge from 7 to 4 up\n",
      "3.1076771770269733: Edge from 3 to 1 up\n",
      "3.1341977762426216: Edge from 2 to 10 up\n",
      "3.1415399864544384: Edge from 2 to 7 down\n",
      "3.146691712198746: Edge from 3 to 6 up\n",
      "3.193993690325916: Edge from 3 to 6 down\n",
      "3.2700006909470307: Walker 8 in vertex 9 has connections to [8]\n",
      "3.2700006909470307: Walker 8 arrived in vertex 8\n",
      "3.3348295949101034: Walker 2 in vertex 8 has connections to [3, 6, 9]\n",
      "3.3348295949101034: Walker 2 arrived in vertex 3\n",
      "3.371946389129831: Edge from 5 to 10 down\n",
      "3.3979474277356587: Edge from 6 to 2 up\n",
      "3.4144725380392513: Edge from 2 to 7 up\n",
      "3.4439475203938583: Edge from 7 to 9 down\n",
      "3.531981882382421: Edge from 10 to 2 up\n",
      "3.5484478872502367: Walker 8 in vertex 8 has connections to [3, 6, 9]\n",
      "3.5484478872502367: Walker 8 arrived in vertex 3\n",
      "3.5546486341884505: Walker 4 in vertex 5 has connections to [1, 3, 9]\n",
      "3.5546486341884505: Walker 4 arrived in vertex 9\n",
      "3.5751982657629524: Edge from 2 to 7 down\n",
      "3.5946883207791682: Edge from 2 to 7 up\n",
      "3.7277674511279253: Walker 7 in vertex 8 has connections to [3, 6, 9]\n",
      "3.7277674511279253: Walker 7 arrived in vertex 3\n",
      "3.8551692487984917: Walker 2 in vertex 3 has connections to [1, 8]\n",
      "3.8551692487984917: Walker 2 arrived in vertex 1\n",
      "3.859071501529202: Edge from 7 to 4 down\n",
      "3.8759985474714003: Edge from 8 to 9 down\n",
      "3.900246743234843: Edge from 3 to 10 up\n",
      "3.9010898077598224: Edge from 3 to 2 up\n",
      "4.029503561829047: Walker 4 in vertex 9 has connections to [8]\n",
      "4.029503561829047: Walker 4 arrived in vertex 8\n",
      "4.080729409836457: Edge from 8 to 3 down\n",
      "4.1290364677984135: Walker 5 in vertex 8 has connections to [6]\n",
      "4.1290364677984135: Walker 5 arrived in vertex 6\n",
      "4.18156879508537: Edge from 5 to 6 up\n",
      "4.194702305204926: Edge from 3 to 1 down\n",
      "4.195152921251202: Edge from 5 to 10 up\n",
      "4.202843012668016: Edge from 1 to 5 down\n",
      "4.218988938202292: Edge from 2 to 10 down\n",
      "4.253722327389346: Walker 3 in vertex 3 has connections to [2, 8, 10]\n",
      "4.253722327389346: Walker 3 arrived in vertex 8\n",
      "4.268435811809145: Walker 7 in vertex 3 has connections to [2, 8, 10]\n",
      "4.268435811809145: Walker 7 arrived in vertex 8\n",
      "4.402079684233333: Walker 7 in vertex 8 has connections to [6]\n",
      "4.402079684233333: Walker 7 arrived in vertex 6\n",
      "4.411552012706793: Edge from 10 to 2 down\n",
      "4.4987128054642325: Edge from 1 to 5 up\n",
      "4.501745750868581: Walker 1 in vertex 8 has connections to [6]\n",
      "4.501745750868581: Walker 1 arrived in vertex 6\n",
      "4.528414843198535: Walker 2 in vertex 1 has connections to [3, 5, 9, 10]\n",
      "4.528414843198535: Walker 2 arrived in vertex 5\n",
      "4.532786744785485: Edge from 8 to 6 down\n",
      "4.543908493507546: Edge from 5 to 6 down\n",
      "4.573942549224996: Edge from 7 to 5 up\n",
      "4.574515172831104: Edge from 7 to 9 up\n",
      "4.611618847723503: Edge from 3 to 10 down\n",
      "4.626554068071762: Edge from 10 to 4 down\n",
      "4.669443485607499: Walker 10 in vertex 9 has connections to [8]\n",
      "4.669443485607499: Walker 10 arrived in vertex 8\n",
      "4.697621188291428: Edge from 2 to 10 up\n",
      "4.769412884714367: Walker 7 in vertex 6 has connections to [2, 3, 7, 9]\n",
      "4.769412884714367: Walker 7 arrived in vertex 3\n",
      "4.799268295943646: Edge from 2 to 7 down\n",
      "4.856492280131572: Edge from 7 to 4 up\n",
      "4.897550769599945: Walker 3 in vertex 8 has connections to Int64[]\n",
      "4.897550769599945: Walker 3 in vertex 8 is waiting for connections\n",
      "4.902248453313266: Edge from 1 to 5 down\n",
      "4.952523660063759: Edge from 5 to 6 up\n",
      "4.952523660063759: Walker 3 in vertex 8 is waiting for connections\n",
      "4.955126247546453: Edge from 3 to 1 up\n",
      "4.955126247546453: Walker 3 in vertex 8 is waiting for connections\n",
      "4.97909259868208: Edge from 3 to 10 up\n",
      "4.97909259868208: Walker 3 in vertex 8 is waiting for connections\n",
      "[0.0, 3.85517]\n",
      "[2.58193]\n",
      "[0.0, 0.0659772, 1.03281, 1.19456, 1.36605, 2.02623, 2.39217, 2.40469, 2.71117, 3.33483, 3.54845, 3.72777, 4.76941]\n",
      "[0.0, 0.0, 0.547765, 1.79948]\n",
      "[0.0, 0.0, 0.534823, 0.695762, 0.718301, 2.00713, 4.52841]\n",
      "[0.490695, 0.63473, 1.07155, 1.16025, 1.84705, 4.12904, 4.40208, 4.50175]\n",
      "[0.0, 0.34018, 0.67976, 1.96817]\n",
      "[0.0, 0.57747, 1.54252, 2.01426, 2.58427, 2.67671, 2.73631, 3.27, 4.0295, 4.25372, 4.26844, 4.66944]\n",
      "[0.0, 0.568448, 1.28094, 1.72798, 2.59599, 2.94656, 3.55465]\n",
      "[0.0, 0.560955, 2.46378]\n"
     ]
    }
   ],
   "source": [
    "play(5.0, 10, 0.25, 10)"
   ]
  },
  {
   "cell_type": "code",
   "execution_count": null,
   "metadata": {
    "collapsed": true
   },
   "outputs": [],
   "source": []
  }
 ],
 "metadata": {
  "kernelspec": {
   "display_name": "Julia 0.6.0",
   "language": "julia",
   "name": "julia-0.6"
  },
  "language_info": {
   "file_extension": ".jl",
   "mimetype": "application/julia",
   "name": "julia",
   "version": "0.6.0"
  }
 },
 "nbformat": 4,
 "nbformat_minor": 2
}
