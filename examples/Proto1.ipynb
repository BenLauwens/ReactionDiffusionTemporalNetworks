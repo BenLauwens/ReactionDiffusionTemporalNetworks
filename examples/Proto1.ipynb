{
 "cells": [
  {
   "cell_type": "markdown",
   "metadata": {},
   "source": [
    "# Prototype of reaction-diffusion on temporal networks"
   ]
  },
  {
   "cell_type": "markdown",
   "metadata": {},
   "source": [
    "Install the packages"
   ]
  },
  {
   "cell_type": "code",
   "execution_count": 1,
   "metadata": {
    "collapsed": false
   },
   "outputs": [
    {
     "name": "stderr",
     "output_type": "stream",
     "text": [
      "\u001b[1m\u001b[36mINFO: \u001b[39m\u001b[22m\u001b[36mUpdating METADATA...\n",
      "\u001b[39m\u001b[1m\u001b[36mINFO: \u001b[39m\u001b[22m\u001b[36mUpdating ResumableFunctions master...\n",
      "\u001b[39m\u001b[1m\u001b[36mINFO: \u001b[39m\u001b[22m\u001b[36mUpdating SimJulia master...\n",
      "\u001b[39m\u001b[1m\u001b[36mINFO: \u001b[39m\u001b[22m\u001b[36mComputing changes...\n",
      "\u001b[39m\u001b[1m\u001b[36mINFO: \u001b[39m\u001b[22m\u001b[36mNo packages to install, update or remove\n",
      "\u001b[39m\u001b[1m\u001b[36mINFO: \u001b[39m\u001b[22m\u001b[36mPackage Distributions is already installed\n",
      "\u001b[39m\u001b[1m\u001b[36mINFO: \u001b[39m\u001b[22m\u001b[36mPackage LightGraphs is already installed\n",
      "\u001b[39m\u001b[1m\u001b[36mINFO: \u001b[39m\u001b[22m\u001b[36mPackage SimJulia is already installed\n",
      "\u001b[39m\u001b[1m\u001b[36mINFO: \u001b[39m\u001b[22m\u001b[36mChecking out SimJulia master...\n",
      "\u001b[39m\u001b[1m\u001b[36mINFO: \u001b[39m\u001b[22m\u001b[36mPulling SimJulia latest master...\n",
      "\u001b[39m\u001b[1m\u001b[36mINFO: \u001b[39m\u001b[22m\u001b[36mNo packages to install, update or remove\n",
      "\u001b[39m\u001b[1m\u001b[36mINFO: \u001b[39m\u001b[22m\u001b[36mChecking out ResumableFunctions master...\n",
      "\u001b[39m\u001b[1m\u001b[36mINFO: \u001b[39m\u001b[22m\u001b[36mPulling ResumableFunctions latest master...\n",
      "\u001b[39m\u001b[1m\u001b[36mINFO: \u001b[39m\u001b[22m\u001b[36mNo packages to install, update or remove\n",
      "\u001b[39m"
     ]
    }
   ],
   "source": [
    "Pkg.update()\n",
    "Pkg.add(\"Distributions\")\n",
    "Pkg.add(\"LightGraphs\")\n",
    "Pkg.add(\"SimJulia\")\n",
    "Pkg.checkout(\"SimJulia\")\n",
    "Pkg.checkout(\"ResumableFunctions\")"
   ]
  },
  {
   "cell_type": "markdown",
   "metadata": {},
   "source": [
    "Making packages available in notebook"
   ]
  },
  {
   "cell_type": "code",
   "execution_count": 2,
   "metadata": {
    "collapsed": false
   },
   "outputs": [],
   "source": [
    "using Distributions\n",
    "using LightGraphs\n",
    "using ResumableFunctions\n",
    "using SimJulia"
   ]
  },
  {
   "cell_type": "markdown",
   "metadata": {},
   "source": [
    "Define the temporal behaviour of the network"
   ]
  },
  {
   "cell_type": "code",
   "execution_count": 19,
   "metadata": {
    "collapsed": false
   },
   "outputs": [
    {
     "data": {
      "text/plain": [
       "edge_behaviour (generic function with 1 method)"
      ]
     },
     "execution_count": 19,
     "metadata": {},
     "output_type": "execute_result"
    }
   ],
   "source": [
    "@resumable function edge_behaviour(sim::Simulation, initial_state::Bool, src::Int, dst::Int, network::DiGraph, link_up::Event)\n",
    "    up_distribution = Exponential(1.0) # other distributions are available\n",
    "    down_distribution = Exponential(1.0) # other distributions are available\n",
    "    next_state = initial_state\n",
    "    while true\n",
    "        if next_state\n",
    "            println(now(sim), \": Edge from \", src, \" to \", dst, \" up\")\n",
    "            add_edge!(network, src, dst)\n",
    "            succeed(link_up, value=src)\n",
    "            next_state = false\n",
    "            @yield Timeout(sim, rand(up_distribution))\n",
    "        else\n",
    "            println(now(sim), \": Edge from \", src, \" to \", dst, \" down\")\n",
    "            rem_edge!(network, src, dst)\n",
    "            next_state = true\n",
    "            @yield Timeout(sim, rand(down_distribution))\n",
    "        end\n",
    "    end\n",
    "end"
   ]
  },
  {
   "cell_type": "markdown",
   "metadata": {},
   "source": [
    "Define the walker behaviour"
   ]
  },
  {
   "cell_type": "code",
   "execution_count": null,
   "metadata": {
    "collapsed": false
   },
   "outputs": [],
   "source": [
    "@resumable function walker_behaviour(sim::Simulation, walker::Int, vertex::Int, network::DiGraph, link_up::Event)\n",
    "    wait_distribution = Exponential(1.0) # other distributions are available\n",
    "    while true\n",
    "        println(now(sim), \": Walker \", walker, \" arrived in vertex \", vertex)\n",
    "        @yield Timeout(sim, rand(wait_distribution))\n",
    "        connections = out_neighbors(network, vertex)\n",
    "        println(now(sim), \": Walker \", walker, \" in vertex \", vertex, \" has connections to \", connections)\n",
    "        isempty(connections) && continue # no connections available, so we wait another period\n",
    "        #if isempty(connections)\n",
    "        #    src = 0\n",
    "        #    while src != vertex\n",
    "        #        println(now(sim), \": Walker \", walker, \" in vertex \", vertex, \" is waiting for connections\")\n",
    "        #        src = @yield link_up\n",
    "        #        println(src)\n",
    "        #    end\n",
    "        #end\n",
    "        connection_distribution = DiscreteUniform(1, length(connections))\n",
    "        vertex = connections[Int(rand(connection_distribution))]\n",
    "    end\n",
    "end"
   ]
  },
  {
   "cell_type": "markdown",
   "metadata": {},
   "source": [
    "Define the initial simulation settings"
   ]
  },
  {
   "cell_type": "code",
   "execution_count": 5,
   "metadata": {
    "collapsed": false
   },
   "outputs": [
    {
     "data": {
      "text/plain": [
       "play (generic function with 1 method)"
      ]
     },
     "execution_count": 5,
     "metadata": {},
     "output_type": "execute_result"
    }
   ],
   "source": [
    "function play(run_time::Float64, nr_edges::Int, nr_walkers::Int)\n",
    "    sim = Simulation()\n",
    "    network = DiGraph(nr_edges) # specify the number of vertices\n",
    "    edge_distribution = Bernoulli(0.5) # modify parameter to change the density of the initial network\n",
    "    walker_distribution = DiscreteUniform(1, nr_edges)\n",
    "    link_up = Event(sim)\n",
    "    for src in 1:nr_edges\n",
    "        for dst in 1:nr_edges\n",
    "            src == dst && continue # self loops are not allowed\n",
    "            state = Bool(rand(edge_distribution))\n",
    "            @coroutine edge_behaviour(sim, state, src, dst, network, link_up)\n",
    "        end\n",
    "    end\n",
    "    for walker in 1:nr_walkers\n",
    "        vertex = Int(rand(walker_distribution))\n",
    "        @coroutine walker_behaviour(sim, walker, vertex, network, link_up)\n",
    "    end\n",
    "    run(sim, run_time)\n",
    "end"
   ]
  },
  {
   "cell_type": "code",
   "execution_count": null,
   "metadata": {
    "collapsed": false
   },
   "outputs": [],
   "source": [
    "play(5.0, 3, 2)"
   ]
  },
  {
   "cell_type": "code",
   "execution_count": null,
   "metadata": {
    "collapsed": true
   },
   "outputs": [],
   "source": []
  }
 ],
 "metadata": {
  "kernelspec": {
   "display_name": "Julia 0.6.0",
   "language": "julia",
   "name": "julia-0.6"
  },
  "language_info": {
   "file_extension": ".jl",
   "mimetype": "application/julia",
   "name": "julia",
   "version": "0.6.0"
  }
 },
 "nbformat": 4,
 "nbformat_minor": 2
}
