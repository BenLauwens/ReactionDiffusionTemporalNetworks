{
 "cells": [
  {
   "cell_type": "markdown",
   "metadata": {},
   "source": [
    "# Prototype of reaction-diffusion on temporal networks"
   ]
  },
  {
   "cell_type": "markdown",
   "metadata": {},
   "source": [
    "Install the packages"
   ]
  },
  {
   "cell_type": "code",
   "execution_count": 1,
   "metadata": {
    "collapsed": false
   },
   "outputs": [
    {
     "name": "stderr",
     "output_type": "stream",
     "text": [
      "\u001b[1m\u001b[36mINFO: \u001b[39m\u001b[22m\u001b[36mUpdating METADATA...\n",
      "\u001b[39m\u001b[1m\u001b[36mINFO: \u001b[39m\u001b[22m\u001b[36mUpdating SimJulia master...\n",
      "\u001b[39m\u001b[1m\u001b[36mINFO: \u001b[39m\u001b[22m\u001b[36mComputing changes...\n",
      "\u001b[39m\u001b[1m\u001b[36mINFO: \u001b[39m\u001b[22m\u001b[36mNo packages to install, update or remove\n",
      "\u001b[39m\u001b[1m\u001b[36mINFO: \u001b[39m\u001b[22m\u001b[36mPackage Distributions is already installed\n",
      "\u001b[39m\u001b[1m\u001b[36mINFO: \u001b[39m\u001b[22m\u001b[36mPackage LightGraphs is already installed\n",
      "\u001b[39m\u001b[1m\u001b[36mINFO: \u001b[39m\u001b[22m\u001b[36mPackage SimJulia is already installed\n",
      "\u001b[39m\u001b[1m\u001b[36mINFO: \u001b[39m\u001b[22m\u001b[36mChecking out SimJulia master...\n",
      "\u001b[39m\u001b[1m\u001b[36mINFO: \u001b[39m\u001b[22m\u001b[36mPulling SimJulia latest master...\n",
      "\u001b[39m\u001b[1m\u001b[36mINFO: \u001b[39m\u001b[22m\u001b[36mNo packages to install, update or remove\n",
      "\u001b[39m"
     ]
    }
   ],
   "source": [
    "Pkg.update()\n",
    "Pkg.add(\"Distributions\")\n",
    "Pkg.add(\"LightGraphs\")\n",
    "Pkg.add(\"SimJulia\")\n",
    "Pkg.checkout(\"SimJulia\")"
   ]
  },
  {
   "cell_type": "markdown",
   "metadata": {},
   "source": [
    "Making packages available in notebook"
   ]
  },
  {
   "cell_type": "code",
   "execution_count": 2,
   "metadata": {
    "collapsed": false
   },
   "outputs": [],
   "source": [
    "using Distributions\n",
    "using LightGraphs\n",
    "using ResumableFunctions\n",
    "using SimJulia"
   ]
  },
  {
   "cell_type": "markdown",
   "metadata": {},
   "source": [
    "Define a type to hold the state of the simulation"
   ]
  },
  {
   "cell_type": "code",
   "execution_count": 3,
   "metadata": {
    "collapsed": true
   },
   "outputs": [],
   "source": [
    "mutable struct SimulationState\n",
    "    network :: DiGraph\n",
    "    link_up :: Event\n",
    "end"
   ]
  },
  {
   "cell_type": "markdown",
   "metadata": {},
   "source": [
    "Define the temporal behaviour of the network"
   ]
  },
  {
   "cell_type": "code",
   "execution_count": 8,
   "metadata": {
    "collapsed": false
   },
   "outputs": [
    {
     "data": {
      "text/plain": [
       "edge_behaviour (generic function with 2 methods)"
      ]
     },
     "execution_count": 8,
     "metadata": {},
     "output_type": "execute_result"
    }
   ],
   "source": [
    "@resumable function edge_behaviour(sim::Simulation, next_state::Bool, src::Int, dst::Int, sim_state::SimulationState)\n",
    "    up_distribution = Exponential(1.0) # other distributions are available\n",
    "    down_distribution = Exponential(1.0) # other distributions are available\n",
    "    while true\n",
    "        if next_state\n",
    "            println(now(sim), \": Edge from \", src, \" to \", dst, \" up\")\n",
    "            add_edge!(sim_state.network, src, dst)\n",
    "            next_state = false\n",
    "            succeed(sim_state.link_up, value=src)\n",
    "            sim_state.link_up = Event(sim)\n",
    "            @yield Timeout(sim, rand(up_distribution))\n",
    "        else\n",
    "            println(now(sim), \": Edge from \", src, \" to \", dst, \" down\")\n",
    "            rem_edge!(sim_state.network, src, dst)\n",
    "            next_state = true\n",
    "            @yield Timeout(sim, rand(down_distribution))\n",
    "        end\n",
    "    end\n",
    "end"
   ]
  },
  {
   "cell_type": "markdown",
   "metadata": {},
   "source": [
    "Define the walker behaviour"
   ]
  },
  {
   "cell_type": "code",
   "execution_count": 5,
   "metadata": {
    "collapsed": false
   },
   "outputs": [
    {
     "data": {
      "text/plain": [
       "walker_behaviour (generic function with 1 method)"
      ]
     },
     "execution_count": 5,
     "metadata": {},
     "output_type": "execute_result"
    }
   ],
   "source": [
    "@resumable function walker_behaviour(sim::Simulation, walker::Int, vertex::Int, sim_state::SimulationState)\n",
    "    wait_distribution = Exponential(1.0) # other distributions are available\n",
    "    while true\n",
    "        println(now(sim), \": Walker \", walker, \" arrived in vertex \", vertex)\n",
    "        @yield Timeout(sim, rand(wait_distribution))\n",
    "        connections = out_neighbors(sim_state.network, vertex)\n",
    "        println(now(sim), \": Walker \", walker, \" in vertex \", vertex, \" has connections to \", connections)\n",
    "        #isempty(connections) && continue # no connections available, so we wait another period\n",
    "        if isempty(connections)\n",
    "            src = 0\n",
    "            while src != vertex\n",
    "                println(now(sim), \": Walker \", walker, \" in vertex \", vertex, \" is waiting for connections\")\n",
    "                src = @yield sim_state.link_up\n",
    "            end\n",
    "        end\n",
    "        connection_distribution = DiscreteUniform(1, length(connections))\n",
    "        vertex = connections[Int(rand(connection_distribution))]\n",
    "    end\n",
    "end"
   ]
  },
  {
   "cell_type": "markdown",
   "metadata": {},
   "source": [
    "Define the initial simulation settings"
   ]
  },
  {
   "cell_type": "code",
   "execution_count": 6,
   "metadata": {
    "collapsed": false
   },
   "outputs": [
    {
     "data": {
      "text/plain": [
       "play (generic function with 1 method)"
      ]
     },
     "execution_count": 6,
     "metadata": {},
     "output_type": "execute_result"
    }
   ],
   "source": [
    "function play(run_time::Float64, nr_vertices::Int, edge_probability::Float64, nr_walkers::Int)\n",
    "    sim = Simulation()\n",
    "    network = erdos_renyi(nr_vertices, edge_probability, is_directed=true) # modify parameter to change edge probability\n",
    "    sim_state = SimulationState(DiGraph(nr_vertices, ne(network)), Event(sim)) \n",
    "    edge_distribution = Bernoulli(0.5) # modify parameter to change the density of initial up edges\n",
    "    walker_distribution = DiscreteUniform(1, nr_vertices) \n",
    "    for edge in edges(network) \n",
    "        state = Bool(rand(edge_distribution))\n",
    "        @coroutine edge_behaviour(sim, state, src(edge), dst(edge), sim_state)\n",
    "    end\n",
    "    for walker in 1:nr_walkers\n",
    "        vertex = Int(rand(walker_distribution))\n",
    "        @coroutine walker_behaviour(sim, walker, vertex, sim_state)\n",
    "    end\n",
    "    run(sim, run_time)\n",
    "end"
   ]
  },
  {
   "cell_type": "code",
   "execution_count": 9,
   "metadata": {
    "collapsed": false
   },
   "outputs": [
    {
     "name": "stdout",
     "output_type": "stream",
     "text": [
      "0.0: Edge from 1 to 4 up\n",
      "0.0: Edge from 1 to 9 up\n",
      "0.0: Edge from 2 to 7 up\n",
      "0.0: Edge from 5 to 8 down\n",
      "0.0: Edge from 6 to 2 up\n",
      "0.0: Edge from 6 to 10 up\n",
      "0.0: Edge from 7 to 2 down\n",
      "0.0: Edge from 7 to 5 down\n",
      "0.0: Edge from 7 to 10 up\n",
      "0.0: Edge from 8 to 1 down\n",
      "0.0: Edge from 8 to 6 down\n",
      "0.0: Edge from 9 to 1 up\n",
      "0.0: Edge from 10 to 1 up\n",
      "0.0: Edge from 10 to 7 up\n",
      "0.0: Edge from 10 to 9 up\n",
      "0.0: Walker 1 arrived in vertex 8\n",
      "0.0: Walker 2 arrived in vertex 3\n",
      "0.0: Walker 3 arrived in vertex 9\n",
      "0.0: Walker 4 arrived in vertex 9\n",
      "0.0: Walker 5 arrived in vertex 7\n",
      "0.0: Walker 6 arrived in vertex 8\n",
      "0.0: Walker 7 arrived in vertex 6\n",
      "0.0: Walker 8 arrived in vertex 10\n",
      "0.0: Walker 9 arrived in vertex 10\n",
      "0.0: Walker 10 arrived in vertex 9\n",
      "0.04539107431248901: Walker 5 in vertex 7 has connections to [4, 8, 10]\n",
      "0.04539107431248901: Walker 5 arrived in vertex 10\n",
      "0.11508724726939576: Edge from 1 to 4 down\n",
      "0.11946260131464309: Edge from 10 to 7 down\n",
      "0.12751829910106355: Walker 8 in vertex 10 has connections to [1, 2, 5, 9]\n",
      "0.12751829910106355: Walker 8 arrived in vertex 9\n",
      "0.1891684574951792: Walker 2 in vertex 3 has connections to [10]\n",
      "0.1891684574951792: Walker 2 arrived in vertex 10\n",
      "0.19639887514365184: Walker 9 in vertex 10 has connections to [1, 2, 5, 9]\n",
      "0.19639887514365184: Walker 9 arrived in vertex 5\n",
      "0.20507683828252404: Edge from 1 to 4 up\n",
      "0.2780506699487724: Edge from 6 to 2 down\n",
      "0.29970622310276485: Edge from 8 to 1 up\n",
      "0.3338027097946242: Edge from 1 to 4 down\n",
      "0.34651248338505436: Edge from 10 to 1 down\n",
      "0.36465925356036827: Edge from 10 to 1 up\n",
      "0.581808112780525: Walker 1 in vertex 8 has connections to [1, 7]\n",
      "0.581808112780525: Walker 1 arrived in vertex 1\n",
      "0.619902908399314: Walker 9 in vertex 5 has connections to [6]\n",
      "0.619902908399314: Walker 9 arrived in vertex 6\n",
      "0.6222947405881591: Edge from 10 to 7 up\n",
      "0.6613272072403515: Walker 7 in vertex 6 has connections to [10]\n",
      "0.6613272072403515: Walker 7 arrived in vertex 10\n",
      "0.671720869261187: Edge from 1 to 9 down\n",
      "0.7026912931674181: Edge from 8 to 6 up\n",
      "0.7447596887238032: Edge from 10 to 9 down\n",
      "0.8314856441157866: Walker 1 in vertex 1 has connections to [3]\n",
      "0.8314856441157866: Walker 1 arrived in vertex 3\n",
      "0.857754937884667: Edge from 1 to 4 up\n",
      "0.942509034154964: Walker 8 in vertex 9 has connections to [1, 5, 6, 8, 10]\n",
      "0.942509034154964: Walker 8 arrived in vertex 5\n",
      "0.9461352421426158: Edge from 1 to 4 down\n",
      "1.005543777895508: Walker 6 in vertex 8 has connections to [1, 6, 7]\n",
      "1.005543777895508: Walker 6 arrived in vertex 7\n",
      "1.065136759311966: Edge from 5 to 8 up\n",
      "1.1084590820919191: Edge from 7 to 10 down\n",
      "1.1397821652093696: Walker 9 in vertex 6 has connections to [10]\n",
      "1.1397821652093696: Walker 9 arrived in vertex 10\n",
      "1.178834266881636: Edge from 10 to 7 down\n",
      "1.2131059102089499: Edge from 9 to 1 down\n",
      "1.2251230308122003: Walker 5 in vertex 10 has connections to [1, 2, 5]\n",
      "1.2251230308122003: Walker 5 arrived in vertex 5\n",
      "1.2626786717548044: Edge from 10 to 9 up\n",
      "1.271540724083469: Edge from 10 to 9 down\n",
      "1.3259918489504834: Edge from 9 to 1 up\n",
      "1.3522445452393144: Walker 3 in vertex 9 has connections to [1, 5, 6, 8, 10]\n",
      "1.3522445452393144: Walker 3 arrived in vertex 5\n",
      "1.3592081489839338: Walker 10 in vertex 9 has connections to [1, 5, 6, 8, 10]\n",
      "1.3592081489839338: Walker 10 arrived in vertex 1\n",
      "1.390697150501011: Edge from 6 to 2 up\n",
      "1.4023207783960683: Edge from 6 to 2 down\n",
      "1.434284808942816: Edge from 2 to 7 down\n",
      "1.5083713924060924: Walker 5 in vertex 5 has connections to [6, 8]\n",
      "1.5083713924060924: Walker 5 arrived in vertex 6\n",
      "1.5166071117147815: Walker 1 in vertex 3 has connections to [10]\n",
      "1.5166071117147815: Walker 1 arrived in vertex 10\n",
      "1.5427881749746954: Walker 2 in vertex 10 has connections to [1, 2, 5]\n",
      "1.5427881749746954: Walker 2 arrived in vertex 2\n",
      "1.6528852248870456: Walker 10 in vertex 1 has connections to [3]\n",
      "1.6528852248870456: Walker 10 arrived in vertex 3\n",
      "1.6806519364577968: Walker 3 in vertex 5 has connections to [6, 8]\n",
      "1.6806519364577968: Walker 3 arrived in vertex 6\n",
      "1.7262341391344622: Edge from 10 to 1 down\n",
      "1.726714850253773: Walker 9 in vertex 10 has connections to [2, 5]\n",
      "1.726714850253773: Walker 9 arrived in vertex 2\n",
      "1.7389199835770879: Walker 5 in vertex 6 has connections to [10]\n",
      "1.7389199835770879: Walker 5 arrived in vertex 10\n",
      "1.7556352923961989: Edge from 5 to 8 down\n",
      "1.7977514727330477: Edge from 10 to 9 up\n",
      "1.8042666850430376: Edge from 10 to 7 up\n",
      "1.8320307568519913: Edge from 1 to 4 up\n",
      "1.865842108260911: Walker 4 in vertex 9 has connections to [1, 5, 6, 8, 10]\n",
      "1.865842108260911: Walker 4 arrived in vertex 10\n",
      "1.9484925854751824: Walker 2 in vertex 2 has connections to [9]\n",
      "1.9484925854751824: Walker 2 arrived in vertex 9\n",
      "1.957570205877095: Edge from 8 to 6 down\n",
      "2.019294713007896: Edge from 8 to 6 up\n",
      "2.050632254397721: Edge from 7 to 2 up\n",
      "2.112976754921965: Walker 4 in vertex 10 has connections to [2, 5, 7, 9]\n",
      "2.112976754921965: Walker 4 arrived in vertex 9\n",
      "2.1138139132967306: Walker 2 in vertex 9 has connections to [1, 5, 6, 8, 10]\n",
      "2.1138139132967306: Walker 2 arrived in vertex 5\n",
      "2.1465747052482818: Edge from 7 to 5 up\n",
      "2.183165973412119: Edge from 10 to 1 up\n",
      "2.254863776497923: Edge from 6 to 10 down\n",
      "2.260595469132583: Edge from 10 to 9 down\n",
      "2.29798994107561: Edge from 10 to 1 down\n",
      "2.3105614417613696: Walker 2 in vertex 5 has connections to [6]\n",
      "2.3105614417613696: Walker 2 arrived in vertex 6\n",
      "2.316281989346013: Walker 2 in vertex 6 has connections to Int64[]\n",
      "2.316281989346013: Walker 2 in vertex 6 is waiting for connections\n",
      "2.390232236732372: Walker 10 in vertex 3 has connections to [10]\n",
      "2.390232236732372: Walker 10 arrived in vertex 10\n",
      "2.4277000581972636: Edge from 7 to 2 down\n",
      "2.6228117933273127: Edge from 1 to 4 down\n",
      "2.691294681660889: Walker 5 in vertex 10 has connections to [2, 5, 7]\n",
      "2.691294681660889: Walker 5 arrived in vertex 2\n",
      "2.7162890795460934: Edge from 10 to 1 up\n",
      "2.7162890795460934: Walker 2 in vertex 6 is waiting for connections\n",
      "2.7519219847111134: Edge from 6 to 2 up\n",
      "2.7519219847111134: Walker 2 arrived in vertex 2\n",
      "2.7668703801739136: Walker 2 in vertex 2 has connections to [9]\n",
      "2.7668703801739136: Walker 2 arrived in vertex 9\n",
      "2.775771757505408: Walker 9 in vertex 2 has connections to [9]\n",
      "2.775771757505408: Walker 9 arrived in vertex 9\n",
      "2.929194523387979: Walker 3 in vertex 6 has connections to [2]\n",
      "2.929194523387979: Walker 3 arrived in vertex 2\n",
      "2.9573327255713777: Walker 10 in vertex 10 has connections to [1, 2, 5, 7]\n",
      "2.9573327255713777: Walker 10 arrived in vertex 2\n",
      "2.9610800171225806: Walker 7 in vertex 10 has connections to [1, 2, 5, 7]\n",
      "2.9610800171225806: Walker 7 arrived in vertex 5\n",
      "2.9651693710918146: Edge from 6 to 2 down\n",
      "2.980381994648487: Walker 1 in vertex 10 has connections to [1, 2, 5, 7]\n",
      "2.980381994648487: Walker 1 arrived in vertex 2\n",
      "3.0192781194318163: Edge from 7 to 10 up\n",
      "3.045339023148526: Walker 1 in vertex 2 has connections to [9]\n",
      "3.045339023148526: Walker 1 arrived in vertex 9\n",
      "3.070862248779526: Edge from 10 to 7 down\n",
      "3.1098715747394063: Edge from 9 to 1 down\n",
      "3.1512832907677657: Edge from 7 to 5 down\n",
      "3.157666831142761: Edge from 7 to 10 down\n",
      "3.204734231453667: Walker 2 in vertex 9 has connections to [5, 6, 8, 10]\n",
      "3.204734231453667: Walker 2 arrived in vertex 8\n",
      "3.3208326108671136: Edge from 7 to 10 up\n",
      "3.3256673118769324: Walker 10 in vertex 2 has connections to [9]\n",
      "3.3256673118769324: Walker 10 arrived in vertex 9\n",
      "3.386859777249126: Edge from 10 to 7 up\n",
      "3.3958872377763116: Edge from 6 to 10 up\n",
      "3.41438462179901: Walker 7 in vertex 5 has connections to [6]\n",
      "3.41438462179901: Walker 7 arrived in vertex 6\n",
      "3.4256445356113248: Edge from 6 to 2 up\n",
      "3.4425063505587827: Walker 9 in vertex 9 has connections to [5, 6, 8, 10]\n",
      "3.4425063505587827: Walker 9 arrived in vertex 5\n",
      "3.492309738910588: Walker 2 in vertex 8 has connections to [1, 6, 7]\n",
      "3.492309738910588: Walker 2 arrived in vertex 6\n",
      "3.514462441510256: Walker 1 in vertex 9 has connections to [5, 6, 8, 10]\n",
      "3.514462441510256: Walker 1 arrived in vertex 8\n",
      "3.5469082745428477: Edge from 7 to 10 down\n",
      "3.6066733326066034: Walker 2 in vertex 6 has connections to [2, 10]\n",
      "3.6066733326066034: Walker 2 arrived in vertex 10\n",
      "3.660187448188931: Walker 7 in vertex 6 has connections to [2, 10]\n",
      "3.660187448188931: Walker 7 arrived in vertex 10\n",
      "3.6725208973446732: Walker 7 in vertex 10 has connections to [1, 2, 5, 7]\n",
      "3.6725208973446732: Walker 7 arrived in vertex 2\n",
      "3.686699829696747: Walker 4 in vertex 9 has connections to [5, 6, 8, 10]\n",
      "3.686699829696747: Walker 4 arrived in vertex 6\n",
      "3.7055510195461165: Edge from 8 to 1 down\n",
      "3.7536585047402697: Walker 9 in vertex 5 has connections to [6]\n",
      "3.7536585047402697: Walker 9 arrived in vertex 6\n",
      "3.7662413203439744: Walker 3 in vertex 2 has connections to [9]\n",
      "3.7662413203439744: Walker 3 arrived in vertex 9\n",
      "3.8274178174574964: Walker 4 in vertex 6 has connections to [2, 10]\n",
      "3.8274178174574964: Walker 4 arrived in vertex 2\n",
      "3.8762933117212937: Edge from 7 to 5 up\n",
      "3.8826825630937685: Edge from 6 to 10 down\n",
      "4.078416336005782: Walker 8 in vertex 5 has connections to [6]\n",
      "4.078416336005782: Walker 8 arrived in vertex 6\n",
      "4.10206869797252: Walker 3 in vertex 9 has connections to [5, 6, 8, 10]\n",
      "4.10206869797252: Walker 3 arrived in vertex 10\n",
      "4.1237763603117905: Edge from 7 to 10 up\n",
      "4.125737170291105: Edge from 10 to 7 down\n",
      "4.127108967747731: Walker 10 in vertex 9 has connections to [5, 6, 8, 10]\n",
      "4.127108967747731: Walker 10 arrived in vertex 5\n",
      "4.178596588537332: Walker 2 in vertex 10 has connections to [1, 2, 5]\n",
      "4.178596588537332: Walker 2 arrived in vertex 1\n",
      "4.222440061530582: Walker 6 in vertex 7 has connections to [4, 5, 8, 10]\n",
      "4.222440061530582: Walker 6 arrived in vertex 8\n",
      "4.304611273803986: Walker 8 in vertex 6 has connections to [2]\n",
      "4.304611273803986: Walker 8 arrived in vertex 2\n",
      "4.439665949716345: Edge from 7 to 2 up\n",
      "4.451119144483299: Walker 8 in vertex 2 has connections to [9]\n",
      "4.451119144483299: Walker 8 arrived in vertex 9\n",
      "4.528655856214062: Edge from 9 to 1 up\n",
      "4.534889844510253: Edge from 8 to 1 up\n",
      "4.554442097030636: Walker 4 in vertex 2 has connections to [9]\n",
      "4.554442097030636: Walker 4 arrived in vertex 9\n",
      "4.564618046297537: Edge from 8 to 1 down\n",
      "4.6460950100710114: Edge from 1 to 4 up\n",
      "4.801543175821939: Walker 2 in vertex 1 has connections to [3, 4]\n",
      "4.801543175821939: Walker 2 arrived in vertex 4\n",
      "4.809355782821423: Walker 8 in vertex 9 has connections to [1, 5, 6, 8, 10]\n",
      "4.809355782821423: Walker 8 arrived in vertex 5\n",
      "4.8103410610162225: Edge from 10 to 9 up\n",
      "4.831781491407049: Edge from 6 to 2 down\n",
      "4.873558787076411: Walker 10 in vertex 5 has connections to [6]\n",
      "4.873558787076411: Walker 10 arrived in vertex 6\n",
      "4.88244159157432: Walker 7 in vertex 2 has connections to [9]\n",
      "4.88244159157432: Walker 7 arrived in vertex 9\n",
      "4.958638904811054: Edge from 10 to 9 down\n",
      "4.972671587284385: Walker 9 in vertex 6 has connections to Int64[]\n",
      "4.972671587284385: Walker 9 in vertex 6 is waiting for connections\n"
     ]
    }
   ],
   "source": [
    "play(5.0, 10, 0.25, 10)"
   ]
  },
  {
   "cell_type": "code",
   "execution_count": null,
   "metadata": {
    "collapsed": true
   },
   "outputs": [],
   "source": []
  }
 ],
 "metadata": {
  "kernelspec": {
   "display_name": "Julia 0.6.0",
   "language": "julia",
   "name": "julia-0.6"
  },
  "language_info": {
   "file_extension": ".jl",
   "mimetype": "application/julia",
   "name": "julia",
   "version": "0.6.0"
  }
 },
 "nbformat": 4,
 "nbformat_minor": 2
}
