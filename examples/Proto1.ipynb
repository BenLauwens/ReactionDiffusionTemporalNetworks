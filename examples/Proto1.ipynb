{
 "cells": [
  {
   "cell_type": "markdown",
   "metadata": {},
   "source": [
    "# Prototype of reaction-diffusion on temporal networks"
   ]
  },
  {
   "cell_type": "markdown",
   "metadata": {},
   "source": [
    "Install the packages"
   ]
  },
  {
   "cell_type": "code",
   "execution_count": 1,
   "metadata": {
    "collapsed": false
   },
   "outputs": [
    {
     "name": "stderr",
     "output_type": "stream",
     "text": [
      "\u001b[1m\u001b[36mINFO: \u001b[39m\u001b[22m\u001b[36mUpdating METADATA...\n",
      "\u001b[39m\u001b[1m\u001b[36mINFO: \u001b[39m\u001b[22m\u001b[36mUpdating SimJulia master...\n",
      "\u001b[39m\u001b[1m\u001b[36mINFO: \u001b[39m\u001b[22m\u001b[36mComputing changes...\n",
      "\u001b[39m\u001b[1m\u001b[36mINFO: \u001b[39m\u001b[22m\u001b[36mNo packages to install, update or remove\n",
      "\u001b[39m\u001b[1m\u001b[36mINFO: \u001b[39m\u001b[22m\u001b[36mPackage Distributions is already installed\n",
      "\u001b[39m\u001b[1m\u001b[36mINFO: \u001b[39m\u001b[22m\u001b[36mPackage LightGraphs is already installed\n",
      "\u001b[39m\u001b[1m\u001b[36mINFO: \u001b[39m\u001b[22m\u001b[36mPackage SimJulia is already installed\n",
      "\u001b[39m\u001b[1m\u001b[36mINFO: \u001b[39m\u001b[22m\u001b[36mChecking out SimJulia master...\n",
      "\u001b[39m\u001b[1m\u001b[36mINFO: \u001b[39m\u001b[22m\u001b[36mPulling SimJulia latest master...\n",
      "\u001b[39m\u001b[1m\u001b[36mINFO: \u001b[39m\u001b[22m\u001b[36mNo packages to install, update or remove\n",
      "\u001b[39m"
     ]
    }
   ],
   "source": [
    "Pkg.update()\n",
    "Pkg.add(\"Distributions\")\n",
    "Pkg.add(\"LightGraphs\")\n",
    "Pkg.add(\"SimJulia\")\n",
    "Pkg.checkout(\"SimJulia\")"
   ]
  },
  {
   "cell_type": "markdown",
   "metadata": {},
   "source": [
    "Making packages available in notebook"
   ]
  },
  {
   "cell_type": "code",
   "execution_count": 2,
   "metadata": {
    "collapsed": false
   },
   "outputs": [],
   "source": [
    "using Distributions\n",
    "using LightGraphs\n",
    "using ResumableFunctions\n",
    "using SimJulia"
   ]
  },
  {
   "cell_type": "markdown",
   "metadata": {},
   "source": [
    "Define a type to hold the state of the simulation"
   ]
  },
  {
   "cell_type": "code",
   "execution_count": 3,
   "metadata": {
    "collapsed": false
   },
   "outputs": [],
   "source": [
    "struct Node\n",
    "    arrival_times :: Vector{Float64}\n",
    "    departure_times :: Vector{Float64}\n",
    "    Node() = new(Float64[], Float64[])\n",
    "end\n",
    "\n",
    "mutable struct SimulationState\n",
    "    network :: DiGraph\n",
    "    link_up :: Event\n",
    "    nodes :: Vector{Node}\n",
    "end"
   ]
  },
  {
   "cell_type": "markdown",
   "metadata": {},
   "source": [
    "Define the temporal behaviour of the network"
   ]
  },
  {
   "cell_type": "code",
   "execution_count": 4,
   "metadata": {
    "collapsed": false
   },
   "outputs": [
    {
     "data": {
      "text/plain": [
       "edge_behaviour (generic function with 1 method)"
      ]
     },
     "execution_count": 4,
     "metadata": {},
     "output_type": "execute_result"
    }
   ],
   "source": [
    "@resumable function edge_behaviour(sim::Simulation, next_state::Bool, src::Int, dst::Int, sim_state::SimulationState)\n",
    "    up_distribution = Exponential(1.0) # other distributions are available\n",
    "    down_distribution = Exponential(1.0) # other distributions are available\n",
    "    while true\n",
    "        if next_state\n",
    "            println(now(sim), \": Edge from \", src, \" to \", dst, \" up\")\n",
    "            add_edge!(sim_state.network, src, dst)\n",
    "            next_state = false\n",
    "            succeed(sim_state.link_up, value=src)\n",
    "            sim_state.link_up = Event(sim)\n",
    "            @yield Timeout(sim, rand(up_distribution))\n",
    "        else\n",
    "            println(now(sim), \": Edge from \", src, \" to \", dst, \" down\")\n",
    "            rem_edge!(sim_state.network, src, dst)\n",
    "            next_state = true\n",
    "            @yield Timeout(sim, rand(down_distribution))\n",
    "        end\n",
    "    end\n",
    "end"
   ]
  },
  {
   "cell_type": "markdown",
   "metadata": {},
   "source": [
    "Define the walker behaviour"
   ]
  },
  {
   "cell_type": "code",
   "execution_count": 14,
   "metadata": {
    "collapsed": false
   },
   "outputs": [
    {
     "data": {
      "text/plain": [
       "walker_behaviour (generic function with 1 method)"
      ]
     },
     "execution_count": 14,
     "metadata": {},
     "output_type": "execute_result"
    }
   ],
   "source": [
    "@resumable function walker_behaviour(sim::Simulation, walker::Int, vertex::Int, sim_state::SimulationState)\n",
    "    wait_distribution = Exponential(1.0) # other distributions are available\n",
    "    while true\n",
    "        println(now(sim), \": Walker \", walker, \" arrived in vertex \", vertex)\n",
    "        push!(sim_state.nodes[vertex].arrival_times, now(sim))\n",
    "        @yield Timeout(sim, rand(wait_distribution))\n",
    "        connections = out_neighbors(sim_state.network, vertex)\n",
    "        println(now(sim), \": Walker \", walker, \" in vertex \", vertex, \" has connections to \", connections)\n",
    "        #isempty(connections) && continue # no connections available, so we wait another period\n",
    "        if isempty(connections)\n",
    "            src = 0\n",
    "            while src != vertex\n",
    "                println(now(sim), \": Walker \", walker, \" in vertex \", vertex, \" is waiting for connections\")\n",
    "                src = @yield sim_state.link_up\n",
    "            end\n",
    "        end\n",
    "        push!(sim_state.nodes[vertex].departure_times, now(sim))\n",
    "        connection_distribution = DiscreteUniform(1, length(connections))\n",
    "        vertex = connections[Int(rand(connection_distribution))]\n",
    "    end\n",
    "end"
   ]
  },
  {
   "cell_type": "markdown",
   "metadata": {},
   "source": [
    "Define the initial simulation settings"
   ]
  },
  {
   "cell_type": "code",
   "execution_count": 12,
   "metadata": {
    "collapsed": false
   },
   "outputs": [
    {
     "data": {
      "text/plain": [
       "play (generic function with 1 method)"
      ]
     },
     "execution_count": 12,
     "metadata": {},
     "output_type": "execute_result"
    }
   ],
   "source": [
    "function play(run_time::Float64, nr_vertices::Int, edge_probability::Float64, nr_walkers::Int)\n",
    "    sim = Simulation()\n",
    "    network = erdos_renyi(nr_vertices, edge_probability, is_directed=true) # modify parameter to change edge probability\n",
    "    sim_state = SimulationState(DiGraph(nr_vertices, ne(network)), Event(sim), Node[]) \n",
    "    edge_distribution = Bernoulli(0.5) # modify parameter to change the density of initial up edges\n",
    "    walker_distribution = DiscreteUniform(1, nr_vertices)\n",
    "    for vertex in 1:nr_vertices\n",
    "       push!(sim_state.nodes, Node()) \n",
    "    end\n",
    "    for edge in edges(network) \n",
    "        state = Bool(rand(edge_distribution))\n",
    "        @coroutine edge_behaviour(sim, state, src(edge), dst(edge), sim_state)\n",
    "    end\n",
    "    for walker in 1:nr_walkers\n",
    "        vertex = Int(rand(walker_distribution))\n",
    "        @coroutine walker_behaviour(sim, walker, vertex, sim_state)\n",
    "    end\n",
    "    run(sim, run_time)\n",
    "    for vertex in 1:nr_vertices\n",
    "       println(sim_state.nodes[vertex].arrival_times) \n",
    "    end\n",
    "end"
   ]
  },
  {
   "cell_type": "code",
   "execution_count": 15,
   "metadata": {
    "collapsed": false
   },
   "outputs": [
    {
     "name": "stdout",
     "output_type": "stream",
     "text": [
      "0.0: Edge from 2 to 6 up\n",
      "0.0: Edge from 2 to 8 up\n",
      "0.0: Edge from 3 to 1 up\n",
      "0.0: Edge from 3 to 8 down\n",
      "0.0: Edge from 3 to 10 down\n",
      "0.0: Edge from 4 to 1 down\n",
      "0.0: Edge from 4 to 5 up\n",
      "0.0: Edge from 5 to 3 up\n",
      "0.0: Edge from 5 to 6 down\n",
      "0.0: Edge from 6 to 4 up\n",
      "0.0: Edge from 7 to 3 down\n",
      "0.0: Edge from 7 to 8 down\n",
      "0.0: Edge from 7 to 10 down\n",
      "0.0: Edge from 8 to 4 down\n",
      "0.0: Edge from 9 to 8 up\n",
      "0.0: Edge from 9 to 10 up\n",
      "0.0: Edge from 10 to 8 down\n",
      "0.0: Walker 1 arrived in vertex 6\n",
      "0.0: Walker 2 arrived in vertex 6\n",
      "0.0: Walker 3 arrived in vertex 9\n",
      "0.0: Walker 4 arrived in vertex 1\n",
      "0.0: Walker 5 arrived in vertex 2\n",
      "0.0: Walker 6 arrived in vertex 5\n",
      "0.0: Walker 7 arrived in vertex 5\n",
      "0.0: Walker 8 arrived in vertex 6\n",
      "0.0: Walker 9 arrived in vertex 4\n",
      "0.0: Walker 10 arrived in vertex 8\n",
      "0.023266016647752158: Walker 1 in vertex 6 has connections to [4]\n",
      "0.023266016647752158: Walker 1 arrived in vertex 4\n",
      "0.06998224668909536: Edge from 3 to 8 up\n",
      "0.0849357093002959: Edge from 7 to 10 up\n",
      "0.09065920442209537: Walker 4 in vertex 1 has connections to [4]\n",
      "0.09065920442209537: Walker 4 arrived in vertex 4\n",
      "0.11040132870622395: Walker 2 in vertex 6 has connections to [4]\n",
      "0.11040132870622395: Walker 2 arrived in vertex 4\n",
      "0.15708635645343538: Walker 10 in vertex 8 has connections to Int64[]\n",
      "0.15708635645343538: Walker 10 in vertex 8 is waiting for connections\n",
      "0.16148460286408192: Walker 6 in vertex 5 has connections to [3, 9]\n",
      "0.16148460286408192: Walker 6 arrived in vertex 9\n",
      "0.18067212094122426: Walker 3 in vertex 9 has connections to [2, 4, 5, 8, 10]\n",
      "0.18067212094122426: Walker 3 arrived in vertex 5\n",
      "0.20231997274445068: Edge from 4 to 1 up\n",
      "0.20231997274445068: Walker 10 in vertex 8 is waiting for connections\n",
      "0.2106094495392676: Edge from 8 to 4 up\n",
      "0.2106094495392676: Walker 10 arrived in vertex 4\n",
      "0.21233237708404648: Edge from 3 to 1 down\n",
      "0.21987697399361694: Walker 10 in vertex 4 has connections to [1, 5]\n",
      "0.21987697399361694: Walker 10 arrived in vertex 1\n",
      "0.2284499110617072: Edge from 5 to 6 up\n",
      "0.23507750696604088: Edge from 7 to 8 up\n",
      "0.23959026882173806: Walker 1 in vertex 4 has connections to [1, 5]\n",
      "0.23959026882173806: Walker 1 arrived in vertex 5\n",
      "0.2550609129500594: Walker 9 in vertex 4 has connections to [1, 5]\n",
      "0.2550609129500594: Walker 9 arrived in vertex 5\n",
      "0.2936676765348817: Edge from 6 to 4 down\n",
      "0.3868569186467339: Walker 4 in vertex 4 has connections to [1, 5]\n",
      "0.3868569186467339: Walker 4 arrived in vertex 5\n",
      "0.3910690674942786: Walker 6 in vertex 9 has connections to [2, 4, 5, 8, 10]\n",
      "0.3910690674942786: Walker 6 arrived in vertex 4\n",
      "0.5878354979243541: Walker 1 in vertex 5 has connections to [3, 6, 9]\n",
      "0.5878354979243541: Walker 1 arrived in vertex 3\n",
      "0.6212199066075612: Edge from 6 to 4 up\n",
      "0.6307468138014558: Edge from 9 to 8 down\n",
      "0.6664984353655692: Edge from 5 to 6 down\n",
      "0.685990787827431: Walker 6 in vertex 4 has connections to [1, 5]\n",
      "0.685990787827431: Walker 6 arrived in vertex 5\n",
      "0.7438654762286717: Walker 8 in vertex 6 has connections to [4]\n",
      "0.7438654762286717: Walker 8 arrived in vertex 4\n",
      "0.7607329691059836: Edge from 10 to 8 up\n",
      "0.8437045877008394: Edge from 5 to 3 down\n",
      "0.852839383208386: Edge from 5 to 6 up\n",
      "0.8996701426359441: Edge from 5 to 3 up\n",
      "0.9460383344618977: Walker 1 in vertex 3 has connections to [8]\n",
      "0.9460383344618977: Walker 1 arrived in vertex 8\n",
      "0.9487914536330576: Walker 1 in vertex 8 has connections to [4]\n",
      "0.9487914536330576: Walker 1 arrived in vertex 4\n",
      "0.9511053541241973: Edge from 2 to 6 down\n",
      "1.0469697581751864: Edge from 3 to 8 down\n",
      "1.0578839115039371: Edge from 9 to 8 up\n",
      "1.1796755444772187: Edge from 5 to 3 down\n",
      "1.2265655110869789: Edge from 4 to 1 down\n",
      "1.2707782300216144: Edge from 8 to 4 down\n",
      "1.284149244040542: Walker 9 in vertex 5 has connections to [6, 9]\n",
      "1.284149244040542: Walker 9 arrived in vertex 9\n",
      "1.3137176924259248: Edge from 7 to 3 up\n",
      "1.3233664560844016: Walker 7 in vertex 5 has connections to [6, 9]\n",
      "1.3233664560844016: Walker 7 arrived in vertex 6\n",
      "1.3709977975851497: Edge from 6 to 4 down\n",
      "1.373176510226758: Edge from 5 to 6 down\n",
      "1.3868125068521566: Walker 2 in vertex 4 has connections to [5]\n",
      "1.3868125068521566: Walker 2 arrived in vertex 5\n",
      "1.4266467550377517: Edge from 7 to 10 down\n",
      "1.4325409246614553: Walker 1 in vertex 4 has connections to [5]\n",
      "1.4325409246614553: Walker 1 arrived in vertex 5\n",
      "1.4336617189738197: Edge from 3 to 8 up\n",
      "1.512661020562165: Walker 10 in vertex 1 has connections to [4]\n",
      "1.512661020562165: Walker 10 arrived in vertex 4\n",
      "1.5485638248652838: Edge from 7 to 8 down\n",
      "1.5603686662504401: Edge from 9 to 10 down\n",
      "1.673303361763602: Edge from 8 to 4 up\n",
      "1.7028261011969885: Walker 8 in vertex 4 has connections to [5]\n",
      "1.7028261011969885: Walker 8 arrived in vertex 5\n",
      "1.7089089866271552: Walker 3 in vertex 5 has connections to [9]\n",
      "1.7089089866271552: Walker 3 arrived in vertex 9\n",
      "1.7120141022857045: Walker 10 in vertex 4 has connections to [5]\n",
      "1.7120141022857045: Walker 10 arrived in vertex 5\n",
      "1.7889316048338997: Walker 2 in vertex 5 has connections to [9]\n",
      "1.7889316048338997: Walker 2 arrived in vertex 9\n",
      "1.8752434370161133: Walker 7 in vertex 6 has connections to Int64[]\n",
      "1.8752434370161133: Walker 7 in vertex 6 is waiting for connections\n",
      "1.8994480375829974: Walker 9 in vertex 9 has connections to [2, 4, 5, 8]\n",
      "1.8994480375829974: Walker 9 arrived in vertex 8\n",
      "1.9041708522376957: Walker 3 in vertex 9 has connections to [2, 4, 5, 8]\n",
      "1.9041708522376957: Walker 3 arrived in vertex 8\n",
      "1.9154747945346227: Edge from 3 to 1 up\n",
      "1.9154747945346227: Walker 7 in vertex 6 is waiting for connections\n",
      "2.0046983905786657: Edge from 5 to 3 up\n",
      "2.0046983905786657: Walker 7 in vertex 6 is waiting for connections\n",
      "2.047495988163889: Edge from 5 to 3 down\n",
      "2.0772967856675155: Edge from 8 to 4 down\n",
      "2.1984151391131275: Edge from 5 to 3 up\n",
      "2.1984151391131275: Walker 7 in vertex 6 is waiting for connections\n",
      "2.228788411580651: Walker 6 in vertex 5 has connections to [3, 9]\n",
      "2.228788411580651: Walker 6 arrived in vertex 3\n",
      "2.2394694806672764: Walker 2 in vertex 9 has connections to [2, 4, 5, 8]\n",
      "2.2394694806672764: Walker 2 arrived in vertex 2\n",
      "2.255960453125976: Edge from 9 to 10 up\n",
      "2.255960453125976: Walker 7 in vertex 6 is waiting for connections\n",
      "2.3954506436791054: Edge from 3 to 1 down\n",
      "2.446364179633412: Edge from 3 to 8 down\n",
      "2.4925275690678754: Edge from 3 to 8 up\n",
      "2.4925275690678754: Walker 7 in vertex 6 is waiting for connections\n",
      "2.5005683926706617: Edge from 8 to 4 up\n",
      "2.5005683926706617: Walker 7 in vertex 6 is waiting for connections\n",
      "2.5977009919977885: Edge from 9 to 10 down\n",
      "2.621485862460845: Edge from 7 to 3 down\n",
      "2.658301277998839: Walker 4 in vertex 5 has connections to [3, 9]\n",
      "2.658301277998839: Walker 4 arrived in vertex 3\n",
      "2.6852087805692277: Walker 9 in vertex 8 has connections to [4]\n",
      "2.6852087805692277: Walker 9 arrived in vertex 4\n",
      "2.7484969526582343: Walker 1 in vertex 5 has connections to [3, 9]\n",
      "2.7484969526582343: Walker 1 arrived in vertex 9\n",
      "2.889822086320193: Walker 2 in vertex 2 has connections to [5, 8, 10]\n",
      "2.889822086320193: Walker 2 arrived in vertex 5\n",
      "2.915252999293861: Edge from 3 to 1 up\n",
      "2.915252999293861: Walker 7 in vertex 6 is waiting for connections\n",
      "2.9658014344306647: Edge from 3 to 8 down\n",
      "3.0135976587282807: Edge from 4 to 5 down\n",
      "3.0214509772278784: Walker 6 in vertex 3 has connections to [1]\n",
      "3.0214509772278784: Walker 6 arrived in vertex 1\n",
      "3.082657239175517: Walker 3 in vertex 8 has connections to [4]\n",
      "3.082657239175517: Walker 3 arrived in vertex 4\n",
      "3.096955603809864: Edge from 10 to 8 down\n",
      "3.112413706637624: Walker 8 in vertex 5 has connections to [3, 9]\n",
      "3.112413706637624: Walker 8 arrived in vertex 3\n",
      "3.139777714176816: Edge from 7 to 8 up\n",
      "3.139777714176816: Walker 7 in vertex 6 is waiting for connections\n",
      "3.179841532241462: Walker 6 in vertex 1 has connections to [4]\n",
      "3.179841532241462: Walker 6 arrived in vertex 4\n",
      "3.2230506499698706: Walker 6 in vertex 4 has connections to Int64[]\n",
      "3.2230506499698706: Walker 6 in vertex 4 is waiting for connections\n",
      "3.267354615662397: Edge from 3 to 8 up\n",
      "3.267354615662397: Walker 7 in vertex 6 is waiting for connections\n",
      "3.267354615662397: Walker 6 in vertex 4 is waiting for connections\n",
      "3.384047026461533: Edge from 7 to 8 down\n",
      "3.505609808060316: Edge from 4 to 1 up\n",
      "3.505609808060316: Walker 7 in vertex 6 is waiting for connections\n",
      "3.505609808060316: Walker 6 arrived in vertex 1\n",
      "3.528878824635993: Walker 9 in vertex 4 has connections to [1]\n",
      "3.528878824635993: Walker 9 arrived in vertex 1\n",
      "3.581419530417647: Walker 4 in vertex 3 has connections to [1, 8]\n",
      "3.581419530417647: Walker 4 arrived in vertex 8\n",
      "3.5865957026891517: Edge from 9 to 8 down\n",
      "3.589523209892935: Edge from 4 to 1 down\n",
      "3.597469044635148: Walker 4 in vertex 8 has connections to [4]\n",
      "3.597469044635148: Walker 4 arrived in vertex 4\n",
      "3.621774267013455: Edge from 7 to 3 up\n",
      "3.621774267013455: Walker 7 in vertex 6 is waiting for connections\n",
      "3.6528732377678277: Walker 8 in vertex 3 has connections to [1, 8]\n",
      "3.6528732377678277: Walker 8 arrived in vertex 1\n",
      "3.6697758029446534: Walker 6 in vertex 1 has connections to [4]\n",
      "3.6697758029446534: Walker 6 arrived in vertex 4\n",
      "3.67270150027986: Walker 3 in vertex 4 has connections to Int64[]\n",
      "3.67270150027986: Walker 3 in vertex 4 is waiting for connections\n",
      "3.7217968529394723: Edge from 10 to 8 up\n",
      "3.7217968529394723: Walker 7 in vertex 6 is waiting for connections\n",
      "3.7217968529394723: Walker 3 in vertex 4 is waiting for connections\n",
      "3.764227244977981: Edge from 2 to 6 up\n",
      "3.764227244977981: Walker 7 in vertex 6 is waiting for connections\n",
      "3.764227244977981: Walker 3 in vertex 4 is waiting for connections\n",
      "3.796638115996789: Edge from 5 to 3 down\n",
      "3.8908839507543798: Edge from 6 to 4 up\n",
      "3.8908839507543798: Walker 7 arrived in vertex 4\n",
      "3.8908839507543798: Walker 3 in vertex 4 is waiting for connections\n",
      "3.9182055237169475: Edge from 4 to 1 up\n",
      "3.9182055237169475: Walker 3 arrived in vertex 1\n",
      "3.932954897038101: Edge from 5 to 3 up\n",
      "3.935253439828845: Edge from 4 to 5 up\n",
      "3.937174856654911: Edge from 5 to 6 up\n",
      "4.026929489131033: Walker 5 in vertex 2 has connections to [5, 6, 8, 10]\n",
      "4.026929489131033: Walker 5 arrived in vertex 6\n",
      "4.046046170998212: Edge from 9 to 8 up\n",
      "4.046947052265507: Edge from 6 to 4 down\n",
      "4.04931201417993: Edge from 7 to 8 up\n",
      "4.056914119323898: Walker 8 in vertex 1 has connections to [4]\n",
      "4.056914119323898: Walker 8 arrived in vertex 4\n",
      "4.06133375090646: Edge from 10 to 8 down\n",
      "4.137170590665672: Walker 10 in vertex 5 has connections to [3, 6, 9]\n",
      "4.137170590665672: Walker 10 arrived in vertex 6\n",
      "4.1401580672862615: Edge from 2 to 6 down\n",
      "4.156070867581338: Edge from 9 to 10 up\n",
      "4.198570642623771: Walker 6 in vertex 4 has connections to [1, 5]\n",
      "4.198570642623771: Walker 6 arrived in vertex 1\n",
      "4.207504155223207: Edge from 10 to 8 up\n",
      "4.2153687071881665: Edge from 5 to 6 down\n",
      "4.222199761441713: Walker 1 in vertex 9 has connections to [2, 4, 5, 8, 10]\n",
      "4.222199761441713: Walker 1 arrived in vertex 10\n",
      "4.240890028039857: Edge from 10 to 8 down\n",
      "4.290854050302801: Edge from 5 to 3 down\n",
      "4.294275861428466: Edge from 3 to 8 down\n",
      "4.312758597606656: Edge from 4 to 1 down\n",
      "4.327412259064321: Walker 10 in vertex 6 has connections to Int64[]\n",
      "4.327412259064321: Walker 10 in vertex 6 is waiting for connections\n",
      "4.443987353582657: Edge from 6 to 4 up\n",
      "4.443987353582657: Walker 10 arrived in vertex 4\n",
      "4.486999773269577: Edge from 6 to 4 down\n",
      "4.509539433086558: Walker 8 in vertex 4 has connections to [5]\n",
      "4.509539433086558: Walker 8 arrived in vertex 5\n",
      "4.51273429044854: Edge from 8 to 4 down\n",
      "4.5193760713310125: Edge from 3 to 1 down\n",
      "4.521705262191939: Walker 4 in vertex 4 has connections to [5]\n",
      "4.521705262191939: Walker 4 arrived in vertex 5\n",
      "4.552033496234322: Edge from 9 to 8 down\n",
      "4.594269974378786: Walker 2 in vertex 5 has connections to [9]\n",
      "4.594269974378786: Walker 2 arrived in vertex 9\n",
      "4.714483385674347: Walker 1 in vertex 10 has connections to [2]\n",
      "4.714483385674347: Walker 1 arrived in vertex 2\n",
      "4.723732329128698: Walker 3 in vertex 1 has connections to [4]\n",
      "4.723732329128698: Walker 3 arrived in vertex 4\n",
      "4.742910574080177: Walker 5 in vertex 6 has connections to Int64[]\n",
      "4.742910574080177: Walker 5 in vertex 6 is waiting for connections\n",
      "4.849396320580652: Edge from 7 to 8 down\n",
      "4.896637401135192: Walker 10 in vertex 4 has connections to [5]\n",
      "4.896637401135192: Walker 10 arrived in vertex 5\n",
      "4.936936612052371: Walker 9 in vertex 1 has connections to [4]\n",
      "4.936936612052371: Walker 9 arrived in vertex 4\n",
      "4.956521193341366: Edge from 7 to 10 up\n",
      "4.956521193341366: Walker 5 in vertex 6 is waiting for connections\n",
      "4.992445048450853: Edge from 4 to 5 down\n",
      "[0.0, 0.219877, 3.02145, 3.50561, 3.52888, 3.65287, 3.91821, 4.19857]\n",
      "[0.0, 2.23947, 4.71448]\n",
      "[0.587835, 2.22879, 2.6583, 3.11241]\n",
      "[0.0, 0.023266, 0.0906592, 0.110401, 0.210609, 0.391069, 0.743865, 0.948791, 1.51266, 2.68521, 3.08266, 3.17984, 3.59747, 3.66978, 3.89088, 4.05691, 4.44399, 4.72373, 4.93694]\n",
      "[0.0, 0.0, 0.180672, 0.23959, 0.255061, 0.386857, 0.685991, 1.38681, 1.43254, 1.70283, 1.71201, 2.88982, 4.50954, 4.52171, 4.89664]\n",
      "[0.0, 0.0, 0.0, 1.32337, 4.02693, 4.13717]\n",
      "Float64[]\n",
      "[0.0, 0.946038, 1.89945, 1.90417, 3.58142]\n",
      "[0.0, 0.161485, 1.28415, 1.70891, 1.78893, 2.7485, 4.59427]\n",
      "[4.2222]\n"
     ]
    }
   ],
   "source": [
    "play(5.0, 10, 0.25, 10)"
   ]
  },
  {
   "cell_type": "code",
   "execution_count": null,
   "metadata": {
    "collapsed": true
   },
   "outputs": [],
   "source": []
  }
 ],
 "metadata": {
  "kernelspec": {
   "display_name": "Julia 0.6.0",
   "language": "julia",
   "name": "julia-0.6"
  },
  "language_info": {
   "file_extension": ".jl",
   "mimetype": "application/julia",
   "name": "julia",
   "version": "0.6.0"
  }
 },
 "nbformat": 4,
 "nbformat_minor": 2
}
