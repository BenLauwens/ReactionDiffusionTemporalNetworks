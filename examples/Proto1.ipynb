{
 "cells": [
  {
   "cell_type": "markdown",
   "metadata": {},
   "source": [
    "# Prototype of reaction-diffusion on temporal networks"
   ]
  },
  {
   "cell_type": "markdown",
   "metadata": {},
   "source": [
    "Install the packages"
   ]
  },
  {
   "cell_type": "code",
   "execution_count": 1,
   "metadata": {
    "collapsed": false
   },
   "outputs": [
    {
     "name": "stderr",
     "output_type": "stream",
     "text": [
      "\u001b[1m\u001b[36mINFO: \u001b[39m\u001b[22m\u001b[36mUpdating METADATA...\n",
      "\u001b[39m\u001b[1m\u001b[36mINFO: \u001b[39m\u001b[22m\u001b[36mUpdating SimJulia master...\n",
      "\u001b[39m\u001b[1m\u001b[36mINFO: \u001b[39m\u001b[22m\u001b[36mComputing changes...\n",
      "\u001b[39m\u001b[1m\u001b[36mINFO: \u001b[39m\u001b[22m\u001b[36mNo packages to install, update or remove\n",
      "\u001b[39m\u001b[1m\u001b[36mINFO: \u001b[39m\u001b[22m\u001b[36mPackage Distributions is already installed\n",
      "\u001b[39m\u001b[1m\u001b[36mINFO: \u001b[39m\u001b[22m\u001b[36mPackage LightGraphs is already installed\n",
      "\u001b[39m\u001b[1m\u001b[36mINFO: \u001b[39m\u001b[22m\u001b[36mPackage SimJulia is already installed\n",
      "\u001b[39m\u001b[1m\u001b[36mINFO: \u001b[39m\u001b[22m\u001b[36mChecking out SimJulia master...\n",
      "\u001b[39m\u001b[1m\u001b[36mINFO: \u001b[39m\u001b[22m\u001b[36mPulling SimJulia latest master...\n",
      "\u001b[39m\u001b[1m\u001b[36mINFO: \u001b[39m\u001b[22m\u001b[36mNo packages to install, update or remove\n",
      "\u001b[39m"
     ]
    }
   ],
   "source": [
    "Pkg.update()\n",
    "Pkg.add(\"Distributions\")\n",
    "Pkg.add(\"LightGraphs\")\n",
    "Pkg.add(\"SimJulia\")\n",
    "Pkg.checkout(\"SimJulia\")"
   ]
  },
  {
   "cell_type": "markdown",
   "metadata": {},
   "source": [
    "Making packages available in notebook"
   ]
  },
  {
   "cell_type": "code",
   "execution_count": 2,
   "metadata": {
    "collapsed": false
   },
   "outputs": [],
   "source": [
    "using Distributions\n",
    "using LightGraphs\n",
    "using ResumableFunctions\n",
    "using SimJulia"
   ]
  },
  {
   "cell_type": "markdown",
   "metadata": {},
   "source": [
    "Define a type to hold the state of the simulation"
   ]
  },
  {
   "cell_type": "code",
   "execution_count": 3,
   "metadata": {
    "collapsed": true
   },
   "outputs": [],
   "source": [
    "mutable struct SimulationState\n",
    "    network :: DiGraph\n",
    "    link_up :: Event\n",
    "end"
   ]
  },
  {
   "cell_type": "markdown",
   "metadata": {},
   "source": [
    "Define the temporal behaviour of the network"
   ]
  },
  {
   "cell_type": "code",
   "execution_count": 8,
   "metadata": {
    "collapsed": false
   },
   "outputs": [
    {
     "data": {
      "text/plain": [
       "edge_behaviour (generic function with 2 methods)"
      ]
     },
     "execution_count": 8,
     "metadata": {},
     "output_type": "execute_result"
    }
   ],
   "source": [
    "@resumable function edge_behaviour(sim::Simulation, initial_state::Bool, src::Edge, dst::Edge, sim_state::SimulationState)\n",
    "    up_distribution = Exponential(1.0) # other distributions are available\n",
    "    down_distribution = Exponential(1.0) # other distributions are available\n",
    "    next_state = initial_state\n",
    "    while true\n",
    "        if next_state\n",
    "            println(now(sim), \": Edge from \", src, \" to \", dst, \" up\")\n",
    "            add_edge!(sim_state.network, src, dst)\n",
    "            next_state = false\n",
    "            succeed(sim_state.link_up, value=src)\n",
    "            sim_state.link_up = Event(sim)\n",
    "            @yield Timeout(sim, rand(up_distribution))\n",
    "        else\n",
    "            println(now(sim), \": Edge from \", src, \" to \", dst, \" down\")\n",
    "            rem_edge!(sim_state.network, src, dst)\n",
    "            next_state = true\n",
    "            @yield Timeout(sim, rand(down_distribution))\n",
    "        end\n",
    "    end\n",
    "end"
   ]
  },
  {
   "cell_type": "markdown",
   "metadata": {},
   "source": [
    "Define the walker behaviour"
   ]
  },
  {
   "cell_type": "code",
   "execution_count": 5,
   "metadata": {
    "collapsed": false
   },
   "outputs": [
    {
     "data": {
      "text/plain": [
       "walker_behaviour (generic function with 1 method)"
      ]
     },
     "execution_count": 5,
     "metadata": {},
     "output_type": "execute_result"
    }
   ],
   "source": [
    "@resumable function walker_behaviour(sim::Simulation, walker::Int, vertex::Int, sim_state::SimulationState)\n",
    "    wait_distribution = Exponential(1.0) # other distributions are available\n",
    "    while true\n",
    "        println(now(sim), \": Walker \", walker, \" arrived in vertex \", vertex)\n",
    "        @yield Timeout(sim, rand(wait_distribution))\n",
    "        connections = out_neighbors(sim_state.network, vertex)\n",
    "        println(now(sim), \": Walker \", walker, \" in vertex \", vertex, \" has connections to \", connections)\n",
    "        #isempty(connections) && continue # no connections available, so we wait another period\n",
    "        if isempty(connections)\n",
    "            src = 0\n",
    "            while src != vertex\n",
    "                println(now(sim), \": Walker \", walker, \" in vertex \", vertex, \" is waiting for connections\")\n",
    "                src = @yield sim_state.link_up\n",
    "            end\n",
    "        end\n",
    "        connection_distribution = DiscreteUniform(1, length(connections))\n",
    "        vertex = connections[Int(rand(connection_distribution))]\n",
    "    end\n",
    "end"
   ]
  },
  {
   "cell_type": "markdown",
   "metadata": {},
   "source": [
    "Define the initial simulation settings"
   ]
  },
  {
   "cell_type": "code",
   "execution_count": 24,
   "metadata": {
    "collapsed": false
   },
   "outputs": [
    {
     "data": {
      "text/plain": [
       "play (generic function with 2 methods)"
      ]
     },
     "execution_count": 24,
     "metadata": {},
     "output_type": "execute_result"
    }
   ],
   "source": [
    "function play(run_time::Float64, nr_vertices::Int, edge_probability::Float64, nr_walkers::Int)\n",
    "    sim = Simulation()\n",
    "    network = erdos_renyi(nr_vertices, edge_probability, is_directed=true) # modify parameter to change edge probability\n",
    "    sim_state = SimulationState(DiGraph(nr_vertices, ne(network)), Event(sim)) \n",
    "    edge_distribution = Bernoulli(0.5) # modify parameter to change the density of initial up edges\n",
    "    walker_distribution = DiscreteUniform(1, nr_vertices) \n",
    "    for edge in edges(network) \n",
    "        state = Bool(rand(edge_distribution))\n",
    "        @coroutine edge_behaviour(sim, state, src(edge), dst(edge), sim_state)\n",
    "    end\n",
    "    for walker in 1:nr_walkers\n",
    "        vertex = Int(rand(walker_distribution))\n",
    "        @coroutine walker_behaviour(sim, walker, vertex, sim_state)\n",
    "    end\n",
    "    run(sim, run_time)\n",
    "end"
   ]
  },
  {
   "cell_type": "code",
   "execution_count": 27,
   "metadata": {
    "collapsed": false
   },
   "outputs": [
    {
     "name": "stdout",
     "output_type": "stream",
     "text": [
      "0.0: Edge from 1 to 3 up\n",
      "0.0: Edge from 1 to 10 up\n",
      "0.0: Edge from 2 to 5 down\n",
      "0.0: Edge from 2 to 7 up\n",
      "0.0: Edge from 2 to 8 up\n",
      "0.0: Edge from 3 to 1 up\n",
      "0.0: Edge from 3 to 5 down\n",
      "0.0: Edge from 4 to 5 down\n",
      "0.0: Edge from 4 to 8 up\n",
      "0.0: Edge from 5 to 4 up\n",
      "0.0: Edge from 5 to 7 down\n",
      "0.0: Edge from 6 to 3 down\n",
      "0.0: Edge from 6 to 8 up\n",
      "0.0: Edge from 7 to 5 up\n",
      "0.0: Edge from 8 to 10 up\n",
      "0.0: Edge from 9 to 8 up\n",
      "0.0: Edge from 10 to 1 up\n",
      "0.0: Edge from 10 to 4 down\n",
      "0.0: Walker 1 arrived in vertex 8\n",
      "0.0: Walker 2 arrived in vertex 8\n",
      "0.0: Walker 3 arrived in vertex 1\n",
      "0.0: Walker 4 arrived in vertex 4\n",
      "0.0: Walker 5 arrived in vertex 6\n",
      "0.0: Walker 6 arrived in vertex 9\n",
      "0.0: Walker 7 arrived in vertex 2\n",
      "0.0: Walker 8 arrived in vertex 2\n",
      "0.0: Walker 9 arrived in vertex 6\n",
      "0.0: Walker 10 arrived in vertex 9\n",
      "0.014455707483633324: Edge from 6 to 3 up\n",
      "0.07616240896655836: Edge from 2 to 7 down\n",
      "0.0993820685964607: Walker 8 in vertex 2 has connections to [3, 4, 8]\n",
      "0.0993820685964607: Walker 8 arrived in vertex 8\n",
      "0.11217562884309176: Walker 2 in vertex 8 has connections to [2, 10]\n",
      "0.11217562884309176: Walker 2 arrived in vertex 10\n",
      "0.1630930095417238: Walker 6 in vertex 9 has connections to [5, 8]\n",
      "0.1630930095417238: Walker 6 arrived in vertex 8\n",
      "0.17549511573930585: Edge from 3 to 1 down\n",
      "0.20353836984087625: Edge from 3 to 1 up\n",
      "0.27940526153210826: Walker 4 in vertex 4 has connections to [7, 8, 10]\n",
      "0.27940526153210826: Walker 4 arrived in vertex 8\n",
      "0.31511652754335534: Walker 9 in vertex 6 has connections to [1, 3, 7, 8]\n",
      "0.31511652754335534: Walker 9 arrived in vertex 7\n",
      "0.3402000565619899: Edge from 2 to 7 up\n",
      "0.36488763619493436: Walker 9 in vertex 7 has connections to [5]\n",
      "0.36488763619493436: Walker 9 arrived in vertex 5\n",
      "0.3731360314576388: Edge from 6 to 3 down\n",
      "0.3988994156285754: Walker 7 in vertex 2 has connections to [3, 4, 7, 8]\n",
      "0.3988994156285754: Walker 7 arrived in vertex 8\n",
      "0.40589630078618183: Walker 7 in vertex 8 has connections to [2, 10]\n",
      "0.40589630078618183: Walker 7 arrived in vertex 2\n",
      "0.44911974486654976: Walker 7 in vertex 2 has connections to [3, 4, 7, 8]\n",
      "0.44911974486654976: Walker 7 arrived in vertex 7\n",
      "0.48483554214368935: Edge from 10 to 1 down\n",
      "0.5485515671638315: Edge from 2 to 5 up\n",
      "0.5545144932783792: Edge from 5 to 4 down\n",
      "0.5941687660784727: Walker 8 in vertex 8 has connections to [2, 10]\n",
      "0.5941687660784727: Walker 8 arrived in vertex 10\n",
      "0.6068531027692379: Edge from 1 to 3 down\n",
      "0.6133571204397129: Walker 3 in vertex 1 has connections to [7, 9, 10]\n",
      "0.6133571204397129: Walker 3 arrived in vertex 9\n",
      "0.6791043187996517: Edge from 3 to 5 up\n",
      "0.6919985462467836: Edge from 4 to 5 up\n",
      "0.6957536485117592: Edge from 10 to 1 up\n",
      "0.6980523231133845: Walker 6 in vertex 8 has connections to [2, 10]\n",
      "0.6980523231133845: Walker 6 arrived in vertex 10\n",
      "0.7122948934165118: Edge from 3 to 1 down\n",
      "0.7156421395883457: Edge from 2 to 5 down\n",
      "0.7209758110827822: Edge from 5 to 7 up\n",
      "0.7514291815907367: Walker 2 in vertex 10 has connections to [1, 2, 3]\n",
      "0.7514291815907367: Walker 2 arrived in vertex 3\n",
      "0.751791088700056: Edge from 10 to 4 up\n",
      "0.7603250713819305: Edge from 6 to 3 up\n",
      "0.771415502347892: Edge from 8 to 10 down\n",
      "0.7904005197003252: Edge from 10 to 4 down\n",
      "0.8155214879517747: Edge from 10 to 1 down\n",
      "0.8333577742897129: Edge from 2 to 5 up\n",
      "0.8453286063882429: Walker 6 in vertex 10 has connections to [2, 3]\n",
      "0.8453286063882429: Walker 6 arrived in vertex 3\n",
      "0.8460891217432782: Edge from 10 to 4 up\n",
      "0.8813900166525286: Edge from 3 to 5 down\n",
      "0.8994805506674991: Edge from 2 to 5 down\n",
      "0.9052560439801299: Walker 3 in vertex 9 has connections to [5, 8]\n",
      "0.9052560439801299: Walker 3 arrived in vertex 8\n",
      "0.9084968462963635: Walker 10 in vertex 9 has connections to [5, 8]\n",
      "0.9084968462963635: Walker 10 arrived in vertex 5\n",
      "0.9657168096436183: Edge from 2 to 7 down\n",
      "0.9668694201772191: Edge from 3 to 5 up\n",
      "0.9676545723190197: Edge from 5 to 7 down\n",
      "0.9867989999448361: Walker 9 in vertex 5 has connections to [10]\n",
      "0.9867989999448361: Walker 9 arrived in vertex 10\n",
      "0.9897923776854324: Edge from 3 to 5 down\n",
      "1.0179016884018597: Walker 8 in vertex 10 has connections to [2, 3, 4]\n",
      "1.0179016884018597: Walker 8 arrived in vertex 3\n",
      "1.0393784163313966: Edge from 4 to 5 down\n",
      "1.041813811566226: Edge from 6 to 3 down\n",
      "1.0588699369169208: Edge from 7 to 5 down\n",
      "1.0978150544822234: Walker 2 in vertex 3 has connections to Int64[]\n",
      "1.0978150544822234: Walker 2 in vertex 3 is waiting for connections\n",
      "1.1482444113777701: Edge from 3 to 5 up\n",
      "1.1482444113777701: Walker 2 arrived in vertex 5\n",
      "1.2313985073097313: Walker 10 in vertex 5 has connections to [10]\n",
      "1.2313985073097313: Walker 10 arrived in vertex 10\n",
      "1.2457579110562318: Edge from 2 to 5 up\n",
      "1.246416080424846: Edge from 9 to 8 down\n",
      "1.2572310493141836: Walker 8 in vertex 3 has connections to [5]\n",
      "1.2572310493141836: Walker 8 arrived in vertex 5\n",
      "1.262225320121765: Walker 1 in vertex 8 has connections to [2]\n",
      "1.262225320121765: Walker 1 arrived in vertex 2\n",
      "1.3195136848087634: Walker 2 in vertex 5 has connections to [10]\n",
      "1.3195136848087634: Walker 2 arrived in vertex 10\n",
      "1.3360533410803836: Walker 5 in vertex 6 has connections to [1, 7, 8]\n",
      "1.3360533410803836: Walker 5 arrived in vertex 8\n",
      "1.3483698492917058: Walker 10 in vertex 10 has connections to [2, 3, 4]\n",
      "1.3483698492917058: Walker 10 arrived in vertex 2\n",
      "1.4196578219679163: Edge from 1 to 3 up\n",
      "1.4330535810941898: Edge from 10 to 1 up\n",
      "1.4396259725364797: Walker 6 in vertex 3 has connections to [5]\n",
      "1.4396259725364797: Walker 6 arrived in vertex 5\n",
      "1.470243798654697: Edge from 4 to 5 up\n",
      "1.4719411691167064: Edge from 2 to 8 down\n",
      "1.4961365886826918: Edge from 7 to 5 up\n",
      "1.4985345719897492: Edge from 2 to 5 down\n",
      "1.5155012388121136: Walker 1 in vertex 2 has connections to [3, 4]\n",
      "1.5155012388121136: Walker 1 arrived in vertex 3\n",
      "1.519619429445307: Walker 10 in vertex 2 has connections to [3, 4]\n",
      "1.519619429445307: Walker 10 arrived in vertex 4\n",
      "1.5214004894057924: Edge from 8 to 10 up\n",
      "1.596506460758909: Edge from 6 to 3 up\n",
      "1.6350786320401638: Edge from 1 to 10 down\n",
      "1.6415183815372834: Edge from 5 to 7 up\n",
      "1.6415397764492698: Edge from 5 to 4 up\n",
      "1.6879140474169168: Walker 3 in vertex 8 has connections to [2, 10]\n",
      "1.6879140474169168: Walker 3 arrived in vertex 10\n",
      "1.7689397526695563: Walker 10 in vertex 4 has connections to [5, 7, 8, 10]\n",
      "1.7689397526695563: Walker 10 arrived in vertex 7\n",
      "1.7951583671272273: Edge from 6 to 8 down\n",
      "1.8194262895452795: Walker 3 in vertex 10 has connections to [1, 2, 3, 4]\n",
      "1.8194262895452795: Walker 3 arrived in vertex 4\n",
      "1.9238267338048167: Walker 4 in vertex 8 has connections to [2, 10]\n",
      "1.9238267338048167: Walker 4 arrived in vertex 2\n",
      "1.9738900243572104: Edge from 3 to 5 down\n",
      "2.010270801103073: Edge from 2 to 8 up\n",
      "2.1849438168418422: Edge from 1 to 3 down\n",
      "2.2087712059587377: Edge from 5 to 7 down\n",
      "2.2114550967966937: Walker 2 in vertex 10 has connections to [1, 2, 3, 4]\n",
      "2.2114550967966937: Walker 2 arrived in vertex 3\n",
      "2.2290414184332956: Edge from 4 to 5 down\n",
      "2.2749286631376515: Edge from 1 to 10 up\n",
      "2.295785217153229: Edge from 10 to 4 down\n",
      "2.3892788209262084: Edge from 5 to 7 up\n",
      "2.4044374901579544: Walker 7 in vertex 7 has connections to [5]\n",
      "2.4044374901579544: Walker 7 arrived in vertex 5\n",
      "2.4065846839129295: Edge from 10 to 4 up\n",
      "2.4183730421910723: Edge from 7 to 5 down\n",
      "2.461350781873538: Walker 3 in vertex 4 has connections to [7, 8, 10]\n",
      "2.461350781873538: Walker 3 arrived in vertex 7\n",
      "2.5063071942532056: Edge from 5 to 4 down\n",
      "2.510878840003999: Walker 10 in vertex 7 has connections to Int64[]\n",
      "2.510878840003999: Walker 10 in vertex 7 is waiting for connections\n",
      "2.5397376543170136: Edge from 10 to 1 down\n",
      "2.5746552249826458: Edge from 4 to 8 down\n",
      "2.640052773943119: Edge from 6 to 3 down\n",
      "2.6553353964783817: Edge from 2 to 8 down\n",
      "2.68313104418: Walker 2 in vertex 3 has connections to Int64[]\n",
      "2.68313104418: Walker 2 in vertex 3 is waiting for connections\n",
      "2.7215186785041885: Walker 6 in vertex 5 has connections to [7, 10]\n",
      "2.7215186785041885: Walker 6 arrived in vertex 7\n",
      "2.7685570628840406: Walker 5 in vertex 8 has connections to [2, 10]\n",
      "2.7685570628840406: Walker 5 arrived in vertex 10\n",
      "2.780104203398426: Edge from 3 to 1 up\n",
      "2.780104203398426: Walker 10 in vertex 7 is waiting for connections\n",
      "2.780104203398426: Walker 2 arrived in vertex 1\n",
      "2.8295252703828075: Edge from 10 to 4 down\n",
      "2.9100666180228303: Edge from 10 to 1 up\n",
      "2.9100666180228303: Walker 10 in vertex 7 is waiting for connections\n",
      "3.0491729099168676: Edge from 3 to 5 up\n",
      "3.0491729099168676: Walker 10 in vertex 7 is waiting for connections\n",
      "3.09717268223626: Edge from 6 to 8 up\n",
      "3.09717268223626: Walker 10 in vertex 7 is waiting for connections\n",
      "3.102203267145245: Walker 9 in vertex 10 has connections to [1, 2, 3]\n",
      "3.102203267145245: Walker 9 arrived in vertex 2\n",
      "3.1252879845024064: Edge from 2 to 7 up\n",
      "3.1252879845024064: Walker 10 in vertex 7 is waiting for connections\n",
      "3.1558210689070734: Edge from 1 to 10 down\n",
      "3.2255839661865897: Walker 7 in vertex 5 has connections to [7, 10]\n",
      "3.2255839661865897: Walker 7 arrived in vertex 7\n",
      "3.250763299670756: Edge from 2 to 5 up\n",
      "3.250763299670756: Walker 10 in vertex 7 is waiting for connections\n",
      "3.3106273758517473: Walker 5 in vertex 10 has connections to [1, 2, 3]\n",
      "3.3106273758517473: Walker 5 arrived in vertex 3\n",
      "3.3115931567347223: Walker 2 in vertex 1 has connections to [7, 9]\n",
      "3.3115931567347223: Walker 2 arrived in vertex 9\n",
      "3.3499290933901866: Walker 7 in vertex 7 has connections to Int64[]\n",
      "3.3499290933901866: Walker 7 in vertex 7 is waiting for connections\n",
      "3.3784692946100168: Edge from 5 to 4 up\n",
      "3.3784692946100168: Walker 10 in vertex 7 is waiting for connections\n",
      "3.3784692946100168: Walker 7 in vertex 7 is waiting for connections\n",
      "3.3831593185200437: Walker 6 in vertex 7 has connections to Int64[]\n",
      "3.3831593185200437: Walker 6 in vertex 7 is waiting for connections\n",
      "3.3868420337246974: Edge from 1 to 10 up\n",
      "3.3868420337246974: Walker 10 in vertex 7 is waiting for connections\n",
      "3.3868420337246974: Walker 7 in vertex 7 is waiting for connections\n",
      "3.3868420337246974: Walker 6 in vertex 7 is waiting for connections\n",
      "3.4453964380515743: Edge from 5 to 7 down\n",
      "3.446272983903211: Edge from 10 to 4 up\n",
      "3.446272983903211: Walker 10 in vertex 7 is waiting for connections\n",
      "3.446272983903211: Walker 7 in vertex 7 is waiting for connections\n",
      "3.446272983903211: Walker 6 in vertex 7 is waiting for connections\n",
      "3.486748984638276: Edge from 2 to 7 down\n",
      "3.5509679484604595: Edge from 6 to 8 down\n",
      "3.563434804850946: Walker 8 in vertex 5 has connections to [4, 10]\n",
      "3.563434804850946: Walker 8 arrived in vertex 4\n",
      "3.607674823670003: Edge from 2 to 8 up\n",
      "3.607674823670003: Walker 10 in vertex 7 is waiting for connections\n",
      "3.607674823670003: Walker 7 in vertex 7 is waiting for connections\n",
      "3.607674823670003: Walker 6 in vertex 7 is waiting for connections\n",
      "3.647799034875507: Edge from 1 to 10 down\n",
      "3.6588526634437253: Edge from 1 to 3 up\n",
      "3.6588526634437253: Walker 10 in vertex 7 is waiting for connections\n",
      "3.6588526634437253: Walker 7 in vertex 7 is waiting for connections\n",
      "3.6588526634437253: Walker 6 in vertex 7 is waiting for connections\n",
      "3.675975157732995: Edge from 2 to 8 down\n",
      "3.6851735353566415: Walker 9 in vertex 2 has connections to [3, 4, 5]\n",
      "3.6851735353566415: Walker 9 arrived in vertex 5\n",
      "3.7051540647516235: Edge from 10 to 4 down\n",
      "3.736721985297269: Edge from 3 to 1 down\n",
      "3.754763560817721: Edge from 2 to 7 up\n",
      "3.754763560817721: Walker 10 in vertex 7 is waiting for connections\n",
      "3.754763560817721: Walker 7 in vertex 7 is waiting for connections\n",
      "3.754763560817721: Walker 6 in vertex 7 is waiting for connections\n",
      "3.9017912713792104: Edge from 10 to 4 up\n",
      "3.9017912713792104: Walker 10 in vertex 7 is waiting for connections\n",
      "3.9017912713792104: Walker 7 in vertex 7 is waiting for connections\n",
      "3.9017912713792104: Walker 6 in vertex 7 is waiting for connections\n",
      "3.903199161793586: Edge from 10 to 4 down\n",
      "3.9155019768623918: Walker 4 in vertex 2 has connections to [3, 4, 5, 7]\n",
      "3.9155019768623918: Walker 4 arrived in vertex 7\n",
      "3.9610917903465612: Edge from 2 to 8 up\n",
      "3.9610917903465612: Walker 10 in vertex 7 is waiting for connections\n",
      "3.9610917903465612: Walker 7 in vertex 7 is waiting for connections\n",
      "3.9610917903465612: Walker 6 in vertex 7 is waiting for connections\n",
      "4.088462930337916: Edge from 7 to 5 up\n",
      "4.088462930337916: Walker 10 arrived in vertex 5\n",
      "4.088462930337916: Walker 7 arrived in vertex 5\n",
      "4.088462930337916: Walker 6 arrived in vertex 5\n",
      "4.21336482354733: Walker 9 in vertex 5 has connections to [4, 10]\n",
      "4.21336482354733: Walker 9 arrived in vertex 4\n",
      "4.336645261239821: Edge from 10 to 1 down\n",
      "4.383944048965895: Edge from 5 to 7 up\n",
      "4.453289614038793: Walker 1 in vertex 3 has connections to [5]\n",
      "4.453289614038793: Walker 1 arrived in vertex 5\n",
      "4.5089742666995525: Edge from 6 to 8 up\n",
      "4.610279920783974: Edge from 1 to 3 down\n",
      "4.61782275305444: Edge from 9 to 8 up\n",
      "4.627106572193992: Edge from 2 to 5 down\n",
      "4.627485196224974: Walker 3 in vertex 7 has connections to [5]\n",
      "4.627485196224974: Walker 3 arrived in vertex 5\n",
      "4.6669930614069886: Edge from 4 to 8 up\n",
      "4.694781314301126: Walker 4 in vertex 7 has connections to [5]\n",
      "4.694781314301126: Walker 4 arrived in vertex 5\n",
      "4.703350396077745: Edge from 2 to 8 down\n",
      "4.781112351819158: Edge from 5 to 7 down\n",
      "4.827026896346466: Edge from 6 to 8 down\n",
      "4.834601602431455: Edge from 10 to 4 up\n",
      "4.8603058532995655: Edge from 6 to 3 up\n",
      "4.875723819162558: Edge from 2 to 8 up\n",
      "4.919270707084329: Edge from 3 to 5 down\n",
      "4.929526496585861: Edge from 1 to 3 up\n"
     ]
    }
   ],
   "source": [
    "play(5.0, 10, 0.25, 10)"
   ]
  },
  {
   "cell_type": "code",
   "execution_count": null,
   "metadata": {
    "collapsed": true
   },
   "outputs": [],
   "source": []
  }
 ],
 "metadata": {
  "kernelspec": {
   "display_name": "Julia 0.6.0",
   "language": "julia",
   "name": "julia-0.6"
  },
  "language_info": {
   "file_extension": ".jl",
   "mimetype": "application/julia",
   "name": "julia",
   "version": "0.6.0"
  }
 },
 "nbformat": 4,
 "nbformat_minor": 2
}
