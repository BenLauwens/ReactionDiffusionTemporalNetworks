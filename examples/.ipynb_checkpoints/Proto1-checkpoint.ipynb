{
 "cells": [
  {
   "cell_type": "markdown",
   "metadata": {},
   "source": [
    "# Prototype of reaction-diffusion on temporal networks"
   ]
  },
  {
   "cell_type": "markdown",
   "metadata": {},
   "source": [
    "Install the packages"
   ]
  },
  {
   "cell_type": "code",
   "execution_count": 7,
   "metadata": {
    "collapsed": false
   },
   "outputs": [
    {
     "name": "stderr",
     "output_type": "stream",
     "text": [
      "\u001b[1m\u001b[36mINFO: \u001b[39m\u001b[22m\u001b[36mUpdating METADATA...\n",
      "\u001b[39m\u001b[1m\u001b[36mINFO: \u001b[39m\u001b[22m\u001b[36mUpdating ResumableFunctions master...\n",
      "\u001b[39m\u001b[1m\u001b[36mINFO: \u001b[39m\u001b[22m\u001b[36mUpdating SimJulia master...\n",
      "\u001b[39m\u001b[1m\u001b[36mINFO: \u001b[39m\u001b[22m\u001b[36mComputing changes...\n",
      "\u001b[39m\u001b[1m\u001b[36mINFO: \u001b[39m\u001b[22m\u001b[36mNo packages to install, update or remove\n",
      "\u001b[39m\u001b[1m\u001b[36mINFO: \u001b[39m\u001b[22m\u001b[36mPackage Distributions is already installed\n",
      "\u001b[39m\u001b[1m\u001b[36mINFO: \u001b[39m\u001b[22m\u001b[36mPackage LightGraphs is already installed\n",
      "\u001b[39m\u001b[1m\u001b[36mINFO: \u001b[39m\u001b[22m\u001b[36mPackage SimJulia is already installed\n",
      "\u001b[39m\u001b[1m\u001b[36mINFO: \u001b[39m\u001b[22m\u001b[36mChecking out SimJulia master...\n",
      "\u001b[39m\u001b[1m\u001b[36mINFO: \u001b[39m\u001b[22m\u001b[36mPulling SimJulia latest master...\n",
      "\u001b[39m\u001b[1m\u001b[36mINFO: \u001b[39m\u001b[22m\u001b[36mNo packages to install, update or remove\n",
      "\u001b[39m\u001b[1m\u001b[36mINFO: \u001b[39m\u001b[22m\u001b[36mChecking out ResumableFunctions master...\n",
      "\u001b[39m\u001b[1m\u001b[36mINFO: \u001b[39m\u001b[22m\u001b[36mPulling ResumableFunctions latest master...\n",
      "\u001b[39m\u001b[1m\u001b[36mINFO: \u001b[39m\u001b[22m\u001b[36mNo packages to install, update or remove\n",
      "\u001b[39m"
     ]
    }
   ],
   "source": [
    "Pkg.update()\n",
    "Pkg.add(\"Distributions\")\n",
    "Pkg.add(\"LightGraphs\")\n",
    "Pkg.add(\"SimJulia\")\n",
    "Pkg.checkout(\"SimJulia\")\n",
    "Pkg.checkout(\"ResumableFunctions\")"
   ]
  },
  {
   "cell_type": "markdown",
   "metadata": {},
   "source": [
    "Making packages available in notebook"
   ]
  },
  {
   "cell_type": "code",
   "execution_count": 8,
   "metadata": {
    "collapsed": false
   },
   "outputs": [],
   "source": [
    "using Distributions\n",
    "using LightGraphs\n",
    "using ResumableFunctions\n",
    "using SimJulia"
   ]
  },
  {
   "cell_type": "markdown",
   "metadata": {},
   "source": [
    "Define the temporal behaviour of the network"
   ]
  },
  {
   "cell_type": "code",
   "execution_count": 9,
   "metadata": {
    "collapsed": false
   },
   "outputs": [
    {
     "data": {
      "text/plain": [
       "edge_behaviour (generic function with 1 method)"
      ]
     },
     "execution_count": 9,
     "metadata": {},
     "output_type": "execute_result"
    }
   ],
   "source": [
    "@resumable function edge_behaviour(sim::Simulation, initial_state::Bool, src::Int, dst::Int, network::DiGraph, link_up::Event)\n",
    "    up_distribution = Exponential(1.0) # other distributions are available\n",
    "    down_distribution = Exponential(1.0) # other distributions are available\n",
    "    next_state = initial_state\n",
    "    while true\n",
    "        if next_state\n",
    "            println(now(sim), \": Edge from \", src, \" to \", dst, \" up\")\n",
    "            add_edge!(network, src, dst)\n",
    "            next_state = false\n",
    "            @yield Timeout(sim, rand(up_distribution))\n",
    "        else\n",
    "            println(now(sim), \": Edge from \", src, \" to \", dst, \" down\")\n",
    "            rem_edge!(network, src, dst)\n",
    "            next_state = true\n",
    "            @yield Timeout(sim, rand(down_distribution))\n",
    "        end\n",
    "    end\n",
    "end"
   ]
  },
  {
   "cell_type": "markdown",
   "metadata": {},
   "source": [
    "Define the walker behaviour"
   ]
  },
  {
   "cell_type": "code",
   "execution_count": 10,
   "metadata": {
    "collapsed": false
   },
   "outputs": [
    {
     "data": {
      "text/plain": [
       "walker_behaviour (generic function with 1 method)"
      ]
     },
     "execution_count": 10,
     "metadata": {},
     "output_type": "execute_result"
    }
   ],
   "source": [
    "@resumable function walker_behaviour(sim::Simulation, walker::Int, vertex::Int, network::DiGraph, link_up::Event)\n",
    "    wait_distribution = Exponential(1.0) # other distributions are available\n",
    "    while true\n",
    "        println(now(sim), \": Walker \", walker, \" arrived in vertex \", vertex)\n",
    "        @yield Timeout(sim, rand(wait_distribution))\n",
    "        connections = out_neighbors(network, vertex)\n",
    "        println(now(sim), \": Walker \", walker, \" in vertex \", vertex, \" has connections to \", connections)\n",
    "        isempty(connections) && continue # no connections available, so we wait another period\n",
    "        #if isempty(connections)\n",
    "        #    src = 0\n",
    "        #    while src != vertex\n",
    "        #        println(now(sim), \": Walker \", walker, \" in vertex \", vertex, \" is waiting for connections\")\n",
    "        #        src = @yield link_up\n",
    "        #        println(src)\n",
    "        #    end\n",
    "        #end\n",
    "        connection_distribution = DiscreteUniform(1, length(connections))\n",
    "        vertex = connections[Int(rand(connection_distribution))]\n",
    "    end\n",
    "end"
   ]
  },
  {
   "cell_type": "markdown",
   "metadata": {},
   "source": [
    "Define the initial simulation settings"
   ]
  },
  {
   "cell_type": "code",
   "execution_count": 11,
   "metadata": {
    "collapsed": false
   },
   "outputs": [
    {
     "data": {
      "text/plain": [
       "play (generic function with 1 method)"
      ]
     },
     "execution_count": 11,
     "metadata": {},
     "output_type": "execute_result"
    }
   ],
   "source": [
    "function play(run_time::Float64, nr_edges::Int, nr_walkers::Int)\n",
    "    sim = Simulation()\n",
    "    network = DiGraph(nr_edges) # specify the number of vertices\n",
    "    edge_distribution = Bernoulli(0.5) # modify parameter to change the density of the initial network\n",
    "    walker_distribution = DiscreteUniform(1, nr_edges)\n",
    "    link_up = Event(sim)\n",
    "    for src in 1:nr_edges\n",
    "        for dst in 1:nr_edges\n",
    "            src == dst && continue # self loops are not allowed\n",
    "            state = Bool(rand(edge_distribution))\n",
    "            @coroutine edge_behaviour(sim, state, src, dst, network, link_up)\n",
    "        end\n",
    "    end\n",
    "    for walker in 1:nr_walkers\n",
    "        vertex = Int(rand(walker_distribution))\n",
    "        @coroutine walker_behaviour(sim, walker, vertex, network, link_up)\n",
    "    end\n",
    "    run(sim, run_time)\n",
    "end"
   ]
  },
  {
   "cell_type": "code",
   "execution_count": 12,
   "metadata": {
    "collapsed": false
   },
   "outputs": [
    {
     "name": "stdout",
     "output_type": "stream",
     "text": [
      "0.0: Edge from 1 to 2 down\n",
      "0.0: Edge from 1 to 3 down\n",
      "0.0: Edge from 2 to 1 up\n",
      "0.0: Edge from 2 to 3 down\n",
      "0.0: Edge from 3 to 1 down\n",
      "0.0: Edge from 3 to 2 down\n",
      "0.0: Walker 1 arrived in vertex 2\n",
      "0.0: Walker 2 arrived in vertex 2\n",
      "0.09216423116628682: Walker 2 in vertex 2 has connections to [1]\n",
      "0.09216423116628682: Walker 2 arrived in vertex 1\n",
      "0.2939988985961515: Walker 2 in vertex 1 has connections to Int64[]\n",
      "0.2939988985961515: Walker 2 arrived in vertex 1\n",
      "0.2950049418689372: Edge from 1 to 3 up\n",
      "0.404766368232377: Edge from 2 to 1 down\n",
      "0.4323719602756899: Walker 2 in vertex 1 has connections to [3]\n",
      "0.4323719602756899: Walker 2 arrived in vertex 3\n",
      "0.5047717419131094: Edge from 1 to 2 up\n",
      "0.5838546018456701: Edge from 2 to 3 up\n",
      "0.6814218292834022: Edge from 2 to 1 up\n",
      "0.8463546899370692: Walker 1 in vertex 2 has connections to [1, 3]\n",
      "0.8463546899370692: Walker 1 arrived in vertex 3\n",
      "0.8809533045116792: Edge from 3 to 1 up\n",
      "1.0655642567842754: Walker 2 in vertex 3 has connections to [1]\n",
      "1.0655642567842754: Walker 2 arrived in vertex 1\n",
      "1.083519870644326: Edge from 1 to 3 down\n",
      "1.1384246214679354: Walker 1 in vertex 3 has connections to [1]\n",
      "1.1384246214679354: Walker 1 arrived in vertex 1\n",
      "1.2096115993229586: Walker 2 in vertex 1 has connections to [2]\n",
      "1.2096115993229586: Walker 2 arrived in vertex 2\n",
      "1.2613827243645823: Walker 1 in vertex 1 has connections to [2]\n",
      "1.2613827243645823: Walker 1 arrived in vertex 2\n",
      "1.3066357273565183: Walker 1 in vertex 2 has connections to [1, 3]\n",
      "1.3066357273565183: Walker 1 arrived in vertex 3\n",
      "1.3133051425638045: Edge from 1 to 2 down\n",
      "1.688599977171516: Walker 2 in vertex 2 has connections to [1, 3]\n",
      "1.688599977171516: Walker 2 arrived in vertex 3\n",
      "1.9243616618670236: Walker 1 in vertex 3 has connections to [1]\n",
      "1.9243616618670236: Walker 1 arrived in vertex 1\n",
      "2.0402308454905462: Edge from 2 to 1 down\n",
      "2.1749548104680527: Edge from 3 to 1 down\n",
      "2.337242942317948: Edge from 1 to 3 up\n",
      "2.4072969197869565: Edge from 3 to 1 up\n",
      "2.4272438663645195: Walker 2 in vertex 3 has connections to [1]\n",
      "2.4272438663645195: Walker 2 arrived in vertex 1\n",
      "2.539318778422429: Walker 2 in vertex 1 has connections to [3]\n",
      "2.539318778422429: Walker 2 arrived in vertex 3\n",
      "2.8244749511708584: Edge from 2 to 1 up\n",
      "2.8801207489322156: Edge from 1 to 2 up\n",
      "2.933960436366836: Edge from 2 to 1 down\n",
      "2.9587704180091388: Walker 2 in vertex 3 has connections to [1]\n",
      "2.9587704180091388: Walker 2 arrived in vertex 1\n",
      "3.0433633515974075: Edge from 3 to 2 up\n",
      "3.0590819897355903: Edge from 1 to 3 down\n",
      "3.072027697231226: Walker 1 in vertex 1 has connections to [2]\n",
      "3.072027697231226: Walker 1 arrived in vertex 2\n",
      "3.2557200780223794: Edge from 3 to 2 down\n",
      "3.3315060056474275: Edge from 1 to 3 up\n",
      "3.34567255835817: Edge from 3 to 2 up\n",
      "3.3566712885252827: Edge from 3 to 1 down\n",
      "3.497327070513986: Edge from 1 to 2 down\n",
      "3.59836922318981: Walker 1 in vertex 2 has connections to [3]\n",
      "3.59836922318981: Walker 1 arrived in vertex 3\n",
      "4.210701157367952: Edge from 2 to 1 up\n",
      "4.296649657997505: Edge from 1 to 2 up\n",
      "4.3163146488305975: Edge from 1 to 3 down\n",
      "4.323572489667727: Walker 2 in vertex 1 has connections to [2]\n",
      "4.323572489667727: Walker 2 arrived in vertex 2\n",
      "4.908085859422753: Edge from 3 to 2 down\n"
     ]
    }
   ],
   "source": [
    "play(5.0, 3, 2)"
   ]
  },
  {
   "cell_type": "code",
   "execution_count": null,
   "metadata": {
    "collapsed": true
   },
   "outputs": [],
   "source": []
  }
 ],
 "metadata": {
  "kernelspec": {
   "display_name": "Julia 0.6.0",
   "language": "julia",
   "name": "julia-0.6"
  },
  "language_info": {
   "file_extension": ".jl",
   "mimetype": "application/julia",
   "name": "julia",
   "version": "0.6.0"
  }
 },
 "nbformat": 4,
 "nbformat_minor": 2
}
