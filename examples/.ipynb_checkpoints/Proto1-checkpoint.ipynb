{
 "cells": [
  {
   "cell_type": "markdown",
   "metadata": {},
   "source": [
    "# Prototype of reaction-diffusion on temporal networks"
   ]
  },
  {
   "cell_type": "markdown",
   "metadata": {},
   "source": [
    "Install the packages"
   ]
  },
  {
   "cell_type": "code",
   "execution_count": 1,
   "metadata": {},
   "outputs": [
    {
     "name": "stderr",
     "output_type": "stream",
     "text": [
      "\u001b[1m\u001b[36mINFO: \u001b[39m\u001b[22m\u001b[36mUpdating METADATA...\n",
      "\u001b[39m\u001b[1m\u001b[36mINFO: \u001b[39m\u001b[22m\u001b[36mUpdating SimJulia master...\n",
      "\u001b[39m\u001b[1m\u001b[36mINFO: \u001b[39m\u001b[22m\u001b[36mComputing changes...\n",
      "\u001b[39m\u001b[1m\u001b[36mINFO: \u001b[39m\u001b[22m\u001b[36mNo packages to install, update or remove\n",
      "\u001b[39m\u001b[1m\u001b[36mINFO: \u001b[39m\u001b[22m\u001b[36mPackage Distributions is already installed\n",
      "\u001b[39m\u001b[1m\u001b[36mINFO: \u001b[39m\u001b[22m\u001b[36mPackage LightGraphs is already installed\n",
      "\u001b[39m\u001b[1m\u001b[36mINFO: \u001b[39m\u001b[22m\u001b[36mPackage SimJulia is already installed\n",
      "\u001b[39m\u001b[1m\u001b[36mINFO: \u001b[39m\u001b[22m\u001b[36mChecking out SimJulia master...\n",
      "\u001b[39m\u001b[1m\u001b[36mINFO: \u001b[39m\u001b[22m\u001b[36mPulling SimJulia latest master...\n",
      "\u001b[39m\u001b[1m\u001b[36mINFO: \u001b[39m\u001b[22m\u001b[36mNo packages to install, update or remove\n",
      "\u001b[39m"
     ]
    }
   ],
   "source": [
    "Pkg.update()\n",
    "Pkg.add(\"Distributions\")\n",
    "Pkg.add(\"LightGraphs\")\n",
    "Pkg.add(\"SimJulia\")\n",
    "Pkg.checkout(\"SimJulia\")"
   ]
  },
  {
   "cell_type": "markdown",
   "metadata": {},
   "source": [
    "Making packages available in notebook"
   ]
  },
  {
   "cell_type": "code",
   "execution_count": 2,
   "metadata": {},
   "outputs": [
    {
     "name": "stderr",
     "output_type": "stream",
     "text": [
      "\u001b[1m\u001b[36mINFO: \u001b[39m\u001b[22m\u001b[36mRecompiling stale cache file /home/jupyter/.julia/lib/v0.6/SimJulia.ji for module SimJulia.\n",
      "\u001b[39m"
     ]
    }
   ],
   "source": [
    "using Distributions\n",
    "using LightGraphs\n",
    "using ResumableFunctions\n",
    "using SimJulia"
   ]
  },
  {
   "cell_type": "markdown",
   "metadata": {},
   "source": [
    "Define a type to hold the state of the simulation"
   ]
  },
  {
   "cell_type": "code",
   "execution_count": 3,
   "metadata": {},
   "outputs": [],
   "source": [
    "struct Node\n",
    "    arrival_times :: Vector{Float64}\n",
    "    departure_times :: Vector{Float64}\n",
    "    Node() = new(Float64[], Float64[])\n",
    "end\n",
    "\n",
    "mutable struct SimulationState\n",
    "    network :: DiGraph\n",
    "    link_up :: Event\n",
    "    nodes :: Vector{Node}\n",
    "end"
   ]
  },
  {
   "cell_type": "markdown",
   "metadata": {},
   "source": [
    "Define the temporal behaviour of the network"
   ]
  },
  {
   "cell_type": "code",
   "execution_count": 4,
   "metadata": {},
   "outputs": [
    {
     "data": {
      "text/plain": [
       "edge_behaviour (generic function with 1 method)"
      ]
     },
     "execution_count": 4,
     "metadata": {},
     "output_type": "execute_result"
    }
   ],
   "source": [
    "@resumable function edge_behaviour(sim::Simulation, next_state::Bool, src::Int, dst::Int, sim_state::SimulationState)\n",
    "    up_distribution = Exponential(1.0) # other distributions are available\n",
    "    down_distribution = Exponential(1.0) # other distributions are available\n",
    "    while true\n",
    "        if next_state\n",
    "            println(now(sim), \": Edge from \", src, \" to \", dst, \" up\")\n",
    "            add_edge!(sim_state.network, src, dst)\n",
    "            next_state = false\n",
    "            succeed(sim_state.link_up, value=src)\n",
    "            sim_state.link_up = Event(sim)\n",
    "            @yield timeout(sim, rand(up_distribution))\n",
    "        else\n",
    "            println(now(sim), \": Edge from \", src, \" to \", dst, \" down\")\n",
    "            rem_edge!(sim_state.network, src, dst)\n",
    "            next_state = true\n",
    "            @yield timeout(sim, rand(down_distribution))\n",
    "        end\n",
    "    end\n",
    "end"
   ]
  },
  {
   "cell_type": "markdown",
   "metadata": {},
   "source": [
    "Define the walker behaviour"
   ]
  },
  {
   "cell_type": "code",
   "execution_count": 5,
   "metadata": {},
   "outputs": [
    {
     "data": {
      "text/plain": [
       "walker_behaviour (generic function with 1 method)"
      ]
     },
     "execution_count": 5,
     "metadata": {},
     "output_type": "execute_result"
    }
   ],
   "source": [
    "@resumable function walker_behaviour(sim::Simulation, walker::Int, vertex::Int, sim_state::SimulationState)\n",
    "    wait_distribution = Exponential(1.0) # other distributions are available\n",
    "    while true\n",
    "        println(now(sim), \": Walker \", walker, \" arrived in vertex \", vertex)\n",
    "        push!(sim_state.nodes[vertex].arrival_times, now(sim))\n",
    "        @yield timeout(sim, rand(wait_distribution))\n",
    "        connections = out_neighbors(sim_state.network, vertex)\n",
    "        println(now(sim), \": Walker \", walker, \" in vertex \", vertex, \" has connections to \", connections)\n",
    "        #isempty(connections) && continue # no connections available, so we wait another period\n",
    "        if isempty(connections)\n",
    "            src = 0\n",
    "            while src != vertex\n",
    "                println(now(sim), \": Walker \", walker, \" in vertex \", vertex, \" is waiting for connections\")\n",
    "                src = @yield sim_state.link_up\n",
    "            end\n",
    "        end\n",
    "        push!(sim_state.nodes[vertex].departure_times, now(sim))\n",
    "        connection_distribution = DiscreteUniform(1, length(connections))\n",
    "        vertex = connections[Int(rand(connection_distribution))]\n",
    "    end\n",
    "end"
   ]
  },
  {
   "cell_type": "markdown",
   "metadata": {},
   "source": [
    "Define the initial simulation settings"
   ]
  },
  {
   "cell_type": "code",
   "execution_count": 6,
   "metadata": {},
   "outputs": [
    {
     "data": {
      "text/plain": [
       "play (generic function with 1 method)"
      ]
     },
     "execution_count": 6,
     "metadata": {},
     "output_type": "execute_result"
    }
   ],
   "source": [
    "function play(run_time::Float64, nr_vertices::Int, edge_probability::Float64, nr_walkers::Int)\n",
    "    sim = Simulation()\n",
    "    network = erdos_renyi(nr_vertices, edge_probability, is_directed=true) # modify parameter to change edge probability\n",
    "    sim_state = SimulationState(DiGraph(nr_vertices, ne(network)), Event(sim), Node[]) \n",
    "    edge_distribution = Bernoulli(0.5) # modify parameter to change the density of initial up edges\n",
    "    walker_distribution = DiscreteUniform(1, nr_vertices)\n",
    "    for vertex in 1:nr_vertices\n",
    "       push!(sim_state.nodes, Node()) \n",
    "    end\n",
    "    for edge in edges(network) \n",
    "        state = Bool(rand(edge_distribution))\n",
    "        @process edge_behaviour(sim, state, src(edge), dst(edge), sim_state)\n",
    "    end\n",
    "    for walker in 1:nr_walkers\n",
    "        vertex = Int(rand(walker_distribution))\n",
    "        @process walker_behaviour(sim, walker, vertex, sim_state)\n",
    "    end\n",
    "    run(sim, run_time)\n",
    "    for vertex in 1:nr_vertices\n",
    "       println(sim_state.nodes[vertex].arrival_times) \n",
    "    end\n",
    "end"
   ]
  },
  {
   "cell_type": "code",
   "execution_count": 7,
   "metadata": {},
   "outputs": [
    {
     "name": "stdout",
     "output_type": "stream",
     "text": [
      "0.0: Edge from 1 to 3 up\n",
      "0.0: Edge from 1 to 5 up\n",
      "0.0: Edge from 1 to 10 down\n",
      "0.0: Edge from 2 to 5 up\n",
      "0.0: Edge from 3 to 4 up\n",
      "0.0: Edge from 4 to 1 up\n",
      "0.0: Edge from 5 to 6 up\n",
      "0.0: Edge from 5 to 8 down\n",
      "0.0: Edge from 6 to 1 up\n",
      "0.0: Edge from 6 to 2 up\n",
      "0.0: Edge from 7 to 3 down\n",
      "0.0: Edge from 8 to 2 down\n",
      "0.0: Edge from 8 to 5 up\n",
      "0.0: Edge from 9 to 2 up\n",
      "0.0: Edge from 9 to 3 down\n",
      "0.0: Edge from 9 to 7 down\n",
      "0.0: Edge from 9 to 10 up\n",
      "0.0: Edge from 10 to 6 down\n",
      "0.0: Edge from 10 to 7 up\n",
      "0.0: Walker 1 arrived in vertex 10\n",
      "0.0: Walker 2 arrived in vertex 6\n",
      "0.0: Walker 3 arrived in vertex 3\n",
      "0.0: Walker 4 arrived in vertex 4\n",
      "0.0: Walker 5 arrived in vertex 8\n",
      "0.0: Walker 6 arrived in vertex 10\n",
      "0.0: Walker 7 arrived in vertex 1\n",
      "0.0: Walker 8 arrived in vertex 4\n",
      "0.0: Walker 9 arrived in vertex 3\n",
      "0.0: Walker 10 arrived in vertex 1\n",
      "0.0035933345331014502: Edge from 9 to 3 up\n",
      "0.004358254121446517: Edge from 8 to 5 down\n",
      "0.010870475687436041: Edge from 9 to 2 down\n",
      "0.030467255524914208: Edge from 1 to 3 down\n",
      "0.05938593411864278: Edge from 4 to 1 down\n",
      "0.0675484743624779: Edge from 5 to 8 up\n",
      "0.0967977210243416: Walker 9 in vertex 3 has connections to [4, 5]\n",
      "0.0967977210243416: Walker 9 arrived in vertex 5\n",
      "0.14116211311283267: Edge from 4 to 1 up\n",
      "0.14739420142795776: Edge from 5 to 6 down\n",
      "0.15965951553796293: Edge from 9 to 10 down\n",
      "0.1598405702693858: Edge from 6 to 1 down\n",
      "0.18125789862085798: Walker 5 in vertex 8 has connections to [4, 9, 10]\n",
      "0.18125789862085798: Walker 5 arrived in vertex 9\n",
      "0.28141880895762705: Edge from 8 to 5 up\n",
      "0.2920159150938576: Walker 8 in vertex 4 has connections to [1]\n",
      "0.2920159150938576: Walker 8 arrived in vertex 1\n",
      "0.30837955427369673: Edge from 3 to 4 down\n",
      "0.3405131337773576: Edge from 9 to 2 up\n",
      "0.34373072126821824: Walker 7 in vertex 1 has connections to [5]\n",
      "0.34373072126821824: Walker 7 arrived in vertex 5\n",
      "0.3577789846921352: Edge from 2 to 5 down\n",
      "0.36300229964612446: Walker 1 in vertex 10 has connections to [1, 2, 3, 4, 7]\n",
      "0.36300229964612446: Walker 1 arrived in vertex 4\n",
      "0.4085000541040385: Edge from 7 to 3 up\n",
      "0.4275511116850165: Edge from 8 to 5 down\n",
      "0.45654531409026483: Edge from 4 to 1 down\n",
      "0.463200268766795: Edge from 1 to 5 down\n",
      "0.46446833241865626: Edge from 9 to 7 up\n",
      "0.4681360089623698: Edge from 9 to 10 up\n",
      "0.478193355980366: Edge from 8 to 2 up\n",
      "0.5132072417283458: Edge from 10 to 7 down\n",
      "0.5253216639593468: Edge from 5 to 8 down\n",
      "0.533876079093122: Walker 3 in vertex 3 has connections to [5]\n",
      "0.533876079093122: Walker 3 arrived in vertex 5\n",
      "0.6117304049799976: Walker 6 in vertex 10 has connections to [1, 2, 3, 4]\n",
      "0.6117304049799976: Walker 6 arrived in vertex 3\n",
      "0.6960125215462594: Edge from 1 to 5 up\n",
      "0.7028090641073601: Edge from 7 to 3 down\n",
      "0.710572482019425: Walker 1 in vertex 4 has connections to Int64[]\n",
      "0.710572482019425: Walker 1 in vertex 4 is waiting for connections\n",
      "0.7988547410675432: Edge from 4 to 1 up\n",
      "0.7988547410675432: Walker 1 arrived in vertex 1\n",
      "0.9691665165125344: Edge from 1 to 3 up\n",
      "1.0464799317743292: Edge from 1 to 3 down\n",
      "1.0567046739959076: Edge from 9 to 3 down\n",
      "1.0617897688396538: Edge from 5 to 8 up\n",
      "1.0707559936396729: Edge from 8 to 2 down\n",
      "1.0838018681671686: Edge from 4 to 1 down\n",
      "1.0888303122324343: Walker 2 in vertex 6 has connections to [2, 7, 8]\n",
      "1.0888303122324343: Walker 2 arrived in vertex 7\n",
      "1.1377562569190727: Walker 10 in vertex 1 has connections to [5]\n",
      "1.1377562569190727: Walker 10 arrived in vertex 5\n",
      "1.1467406036471852: Edge from 4 to 1 up\n",
      "1.1706197976227628: Edge from 9 to 2 down\n",
      "1.2194934221527634: Edge from 9 to 10 down\n",
      "1.2544499247909429: Edge from 6 to 2 down\n",
      "1.2551932271914958: Edge from 9 to 7 down\n",
      "1.2736506530568823: Edge from 9 to 7 up\n",
      "1.3795290428486715: Edge from 5 to 8 down\n",
      "1.6878456652416274: Edge from 7 to 3 up\n",
      "1.7013536079541958: Edge from 10 to 6 up\n",
      "1.725768425177501: Edge from 4 to 1 down\n",
      "1.748272294766822: Edge from 6 to 2 up\n",
      "1.7648086210336702: Edge from 3 to 4 up\n",
      "1.8204759753786406: Edge from 1 to 10 up\n",
      "1.8489316124651916: Edge from 5 to 8 up\n",
      "1.86209168730425: Walker 9 in vertex 5 has connections to [1, 2, 8]\n",
      "1.86209168730425: Walker 9 arrived in vertex 1\n",
      "1.9031520422393085: Edge from 6 to 1 up\n",
      "1.9122258043158862: Edge from 9 to 7 down\n",
      "1.9515213545548782: Edge from 4 to 1 up\n",
      "1.9566426190714792: Edge from 8 to 2 up\n",
      "1.9597820967807567: Edge from 9 to 7 up\n",
      "2.027651821011952: Walker 4 in vertex 4 has connections to [1]\n",
      "2.027651821011952: Walker 4 arrived in vertex 1\n",
      "2.038496228479013: Edge from 2 to 5 up\n",
      "2.0899284404509104: Edge from 8 to 2 down\n",
      "2.0899837796926564: Edge from 1 to 5 down\n",
      "2.120636954901046: Edge from 10 to 6 down\n",
      "2.138609113319414: Edge from 9 to 3 up\n",
      "2.169625816126802: Edge from 10 to 6 up\n",
      "2.1772977484230456: Edge from 8 to 2 up\n",
      "2.1801554714110187: Edge from 6 to 2 down\n",
      "2.258010971084115: Walker 10 in vertex 5 has connections to [1, 2, 8]\n",
      "2.258010971084115: Walker 10 arrived in vertex 8\n",
      "2.273024148946682: Walker 7 in vertex 5 has connections to [1, 2, 8]\n",
      "2.273024148946682: Walker 7 arrived in vertex 8\n",
      "2.3710790005368896: Edge from 10 to 7 up\n",
      "2.400719922282957: Edge from 5 to 8 down\n",
      "2.417601310125863: Edge from 10 to 7 down\n",
      "2.4201866856778556: Edge from 8 to 5 up\n",
      "2.4976600699538944: Edge from 2 to 5 down\n",
      "2.5008104219708787: Edge from 5 to 8 up\n",
      "2.5306557613968104: Edge from 7 to 3 down\n",
      "2.5925680927475705: Walker 6 in vertex 3 has connections to [4, 5]\n",
      "2.5925680927475705: Walker 6 arrived in vertex 5\n",
      "2.6079051317285016: Walker 10 in vertex 8 has connections to [2, 4, 5, 9, 10]\n",
      "2.6079051317285016: Walker 10 arrived in vertex 10\n",
      "2.6150386729989847: Edge from 7 to 3 up\n",
      "2.7071150383911897: Edge from 8 to 5 down\n",
      "2.71393592566494: Walker 1 in vertex 1 has connections to [10]\n",
      "2.71393592566494: Walker 1 arrived in vertex 10\n",
      "2.778228038348391: Edge from 9 to 10 up\n",
      "2.7950573678357804: Edge from 10 to 7 up\n",
      "2.866467296522347: Edge from 9 to 2 up\n",
      "2.922436743988559: Edge from 10 to 6 down\n",
      "3.004117415570582: Edge from 1 to 5 up\n",
      "3.0276027624437614: Edge from 1 to 5 down\n",
      "3.070357892069082: Walker 10 in vertex 10 has connections to [1, 2, 3, 4, 7]\n",
      "3.070357892069082: Walker 10 arrived in vertex 7\n",
      "3.096400719794542: Edge from 5 to 6 up\n",
      "3.150552510628631: Edge from 8 to 5 up\n",
      "3.210078305077283: Edge from 4 to 1 down\n",
      "3.2109764038522393: Edge from 6 to 2 up\n",
      "3.260844510898367: Edge from 1 to 10 down\n",
      "3.293321842590088: Edge from 9 to 10 down\n",
      "3.330680039882556: Edge from 1 to 10 up\n",
      "3.362242258544071: Edge from 9 to 10 up\n",
      "3.3657624816008225: Walker 8 in vertex 1 has connections to [10]\n",
      "3.3657624816008225: Walker 8 arrived in vertex 10\n",
      "3.374947542931985: Edge from 6 to 1 down\n",
      "3.389287106271425: Walker 10 in vertex 7 has connections to [3, 8]\n",
      "3.389287106271425: Walker 10 arrived in vertex 3\n",
      "3.401929026036201: Walker 10 in vertex 3 has connections to [4, 5]\n",
      "3.401929026036201: Walker 10 arrived in vertex 5\n",
      "3.441469726903036: Edge from 9 to 7 down\n",
      "3.473307174542275: Walker 5 in vertex 9 has connections to [2, 3, 6, 10]\n",
      "3.473307174542275: Walker 5 arrived in vertex 3\n",
      "3.52612899126762: Walker 4 in vertex 1 has connections to [10]\n",
      "3.52612899126762: Walker 4 arrived in vertex 10\n",
      "3.529430119315582: Edge from 10 to 7 down\n",
      "3.539155322186345: Edge from 2 to 5 up\n",
      "3.5731894184210207: Edge from 8 to 5 down\n",
      "3.6490765162946848: Walker 3 in vertex 5 has connections to [1, 2, 6, 8]\n",
      "3.6490765162946848: Walker 3 arrived in vertex 2\n",
      "3.6727321223501033: Walker 4 in vertex 10 has connections to [1, 2, 3, 4]\n",
      "3.6727321223501033: Walker 4 arrived in vertex 2\n",
      "3.6735112800838885: Walker 1 in vertex 10 has connections to [1, 2, 3, 4]\n",
      "3.6735112800838885: Walker 1 arrived in vertex 3\n",
      "3.738185322420308: Edge from 3 to 4 down\n",
      "3.7439695004608615: Walker 1 in vertex 3 has connections to [5]\n",
      "3.7439695004608615: Walker 1 arrived in vertex 5\n",
      "3.8029163712849336: Walker 10 in vertex 5 has connections to [1, 2, 6, 8]\n",
      "3.8029163712849336: Walker 10 arrived in vertex 6\n",
      "3.812891204482793: Edge from 1 to 10 down\n",
      "3.8351261265064296: Walker 3 in vertex 2 has connections to [5, 10]\n",
      "3.8351261265064296: Walker 3 arrived in vertex 10\n",
      "3.919511865893926: Edge from 9 to 7 up\n",
      "3.961381971981009: Edge from 7 to 3 down\n",
      "4.048376458590116: Edge from 9 to 3 down\n",
      "4.123666667109873: Walker 10 in vertex 6 has connections to [2, 7, 8]\n",
      "4.123666667109873: Walker 10 arrived in vertex 2\n",
      "4.123742819374205: Edge from 10 to 7 up\n",
      "4.166288667189297: Edge from 9 to 10 down\n",
      "4.192086706957483: Edge from 6 to 2 down\n",
      "4.202894440054245: Walker 10 in vertex 2 has connections to [5, 10]\n",
      "4.202894440054245: Walker 10 arrived in vertex 10\n",
      "4.284597819228593: Edge from 10 to 7 down\n",
      "4.287290034140154: Walker 2 in vertex 7 has connections to [8]\n",
      "4.287290034140154: Walker 2 arrived in vertex 8\n",
      "4.301248624385088: Edge from 9 to 3 up\n",
      "4.343066915853078: Walker 9 in vertex 1 has connections to Int64[]\n",
      "4.343066915853078: Walker 9 in vertex 1 is waiting for connections\n",
      "4.379600660615826: Edge from 1 to 10 up\n",
      "4.379600660615826: Walker 9 arrived in vertex 10\n",
      "4.41228063648219: Edge from 9 to 2 down\n",
      "4.418156828504358: Edge from 9 to 7 down\n",
      "4.507265775510115: Walker 1 in vertex 5 has connections to [1, 2, 6, 8]\n",
      "4.507265775510115: Walker 1 arrived in vertex 2\n",
      "4.633347079495622: Walker 1 in vertex 2 has connections to [5, 10]\n",
      "4.633347079495622: Walker 1 arrived in vertex 5\n",
      "4.63586774439503: Edge from 4 to 1 up\n",
      "4.775148667520375: Walker 4 in vertex 2 has connections to [5, 10]\n",
      "4.775148667520375: Walker 4 arrived in vertex 5\n",
      "4.8304787160478675: Edge from 10 to 6 up\n",
      "4.8376198688652154: Edge from 4 to 1 down\n",
      "4.844296519687249: Walker 1 in vertex 5 has connections to [1, 2, 6, 8]\n",
      "4.844296519687249: Walker 1 arrived in vertex 2\n",
      "4.907217658672403: Walker 8 in vertex 10 has connections to [1, 2, 3, 4, 6]\n",
      "4.907217658672403: Walker 8 arrived in vertex 1\n",
      "4.942858745424222: Edge from 4 to 1 up\n",
      "4.950744960754368: Walker 6 in vertex 5 has connections to [1, 2, 6, 8]\n",
      "4.950744960754368: Walker 6 arrived in vertex 2\n",
      "4.987858828815868: Edge from 3 to 4 up\n"
     ]
    },
    {
     "name": "stdout",
     "output_type": "stream",
     "text": [
      "[0.0, 0.0, 0.292016, 0.798855, 1.86209, 2.02765, 4.90722]\n",
      "[3.64908, 3.67273, 4.12367, 4.50727, 4.8443, 4.95074]\n",
      "[0.0, 0.0, 0.61173, 3.38929, 3.47331, 3.67351]\n",
      "[0.0, 0.0, 0.363002]\n",
      "[0.0967977, 0.343731, 0.533876, 1.13776, 2.59257, 3.40193, 3.74397, 4.63335, 4.77515]\n",
      "[0.0, 3.80292]\n",
      "[1.08883, 3.07036]\n",
      "[0.0, 2.25801, 2.27302, 4.28729]\n",
      "[0.181258]\n",
      "[0.0, 0.0, 2.60791, 2.71394, 3.36576, 3.52613, 3.83513, 4.20289, 4.3796]\n"
     ]
    }
   ],
   "source": [
    "play(5.0, 10, 0.25, 10)"
   ]
  },
  {
   "cell_type": "code",
   "execution_count": null,
   "metadata": {},
   "outputs": [],
   "source": []
  },
  {
   "cell_type": "code",
   "execution_count": null,
   "metadata": {},
   "outputs": [],
   "source": []
  }
 ],
 "metadata": {
  "kernelspec": {
   "display_name": "Julia 0.6.0",
   "language": "julia",
   "name": "julia-0.6"
  },
  "language_info": {
   "file_extension": ".jl",
   "mimetype": "application/julia",
   "name": "julia",
   "version": "0.6.0"
  }
 },
 "nbformat": 4,
 "nbformat_minor": 2
}
